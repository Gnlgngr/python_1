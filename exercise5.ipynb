{
 "cells": [
  {
   "cell_type": "code",
   "execution_count": 11,
   "metadata": {},
   "outputs": [
    {
     "name": "stdout",
     "output_type": "stream",
     "text": [
      "This operation is correct.\n"
     ]
    }
   ],
   "source": [
    "a=5\n",
    "b=6\n",
    "if(a==5 and b==6):\n",
    "    print(\"This operation is correct.\")\n",
    "else:\n",
    "    print(\"This operation is incorrect.\")"
   ]
  },
  {
   "cell_type": "code",
   "execution_count": 12,
   "metadata": {},
   "outputs": [
    {
     "name": "stdout",
     "output_type": "stream",
     "text": [
      "This operation is correct.\n"
     ]
    }
   ],
   "source": [
    "a=5\n",
    "b=6\n",
    "if(a==5 and b==6): # and iki isleminde dogrulugunu yada ikisinden birinin yanlis durumunda yanlis diye yazdirir\n",
    "    print(\"This operation is correct.\")\n",
    "else:\n",
    "    print(\"This operation is incorrect.\") # It checks the correctness of both operations with 'and' and prints 'incorrect' if either one of them is wrong."
   ]
  },
  {
   "cell_type": "code",
   "execution_count": 13,
   "metadata": {},
   "outputs": [
    {
     "name": "stdout",
     "output_type": "stream",
     "text": [
      "I’ll take 4 chocolates.\n",
      "If I buy 4 chocolates, I will have 5 francs left.\n"
     ]
    }
   ],
   "source": [
    "money=33\n",
    "chocolate=7\n",
    "piece=money//chocolate #// tamsayi verir, / float verir\n",
    "remaining=money%chocolate\n",
    "print(\"I’ll take\",piece, \"chocolates.\")\n",
    "print(\"If I buy\",piece, \"chocolates, I will have\",remaining, \"francs left.\")\n"
   ]
  },
  {
   "cell_type": "code",
   "execution_count": 14,
   "metadata": {},
   "outputs": [
    {
     "name": "stdout",
     "output_type": "stream",
     "text": [
      "This operation is correct.\n"
     ]
    }
   ],
   "source": [
    "a=5\n",
    "b=6\n",
    "if(a==5 or b==6): # or islemi ikisinden birisi dogru olursa yine dogru cevabini verir\n",
    "    print(\"This operation is correct.\") #The OR operation returns true if at least one of the conditions is true.\n",
    "else:\n",
    "    print(\"This operation is incorrect.\")"
   ]
  },
  {
   "cell_type": "code",
   "execution_count": 21,
   "metadata": {},
   "outputs": [
    {
     "data": {
      "text/plain": [
       "False"
      ]
     },
     "execution_count": 21,
     "metadata": {},
     "output_type": "execute_result"
    }
   ],
   "source": [
    "bool()"
   ]
  },
  {
   "cell_type": "code",
   "execution_count": 15,
   "metadata": {},
   "outputs": [
    {
     "data": {
      "text/plain": [
       "False"
      ]
     },
     "execution_count": 15,
     "metadata": {},
     "output_type": "execute_result"
    }
   ],
   "source": [
    "False or False or False"
   ]
  },
  {
   "cell_type": "code",
   "execution_count": null,
   "metadata": {},
   "outputs": [
    {
     "data": {
      "text/plain": [
       "8"
      ]
     },
     "execution_count": 24,
     "metadata": {},
     "output_type": "execute_result"
    }
   ],
   "source": [
    "0 or 8 or 5  # or ilk tanimlanan  sayiyi aliyor\n",
    "# OR takes the first defined value."
   ]
  },
  {
   "cell_type": "code",
   "execution_count": null,
   "metadata": {},
   "outputs": [
    {
     "data": {
      "text/plain": [
       "{}"
      ]
     },
     "execution_count": 34,
     "metadata": {},
     "output_type": "execute_result"
    }
   ],
   "source": [
    "5 and 8 and {} and 7 # and tanimlanan sayilarda falsa varsa false yazdirir\n",
    "# AND returns false if any of the defined values is false\n"
   ]
  },
  {
   "cell_type": "code",
   "execution_count": null,
   "metadata": {},
   "outputs": [
    {
     "name": "stdout",
     "output_type": "stream",
     "text": [
      "Hapsu\n",
      "Huseyin\n",
      "ebru\n",
      "Hsbag\n",
      "srupguarbesu\n"
     ]
    }
   ],
   "source": [
    "a=\"Husebraugpurs\"\n",
    "print(a[0]+a[6]+a[9]+a[12]+a[1])\n",
    "print(a[0:4]+\"yin\")\n",
    "print(a[3:6]+\"u\")\n",
    "print(a[0:10:2]) # 10 dahil degil # 10 is not included\n",
    "print(a[12:0:-1])\n",
    " "
   ]
  },
  {
   "cell_type": "code",
   "execution_count": 52,
   "metadata": {},
   "outputs": [
    {
     "name": "stdout",
     "output_type": "stream",
     "text": [
      "MIKDAT\n",
      "mikdat\n"
     ]
    }
   ],
   "source": [
    "a=\"mikdat\".upper()\n",
    "print(a)\n",
    "print(a.lower())\n"
   ]
  },
  {
   "cell_type": "code",
   "execution_count": 56,
   "metadata": {},
   "outputs": [
    {
     "name": "stdout",
     "output_type": "stream",
     "text": [
      "cemal\n",
      "a\n"
     ]
    }
   ],
   "source": [
    "a=\"CEMAL\"\n",
    "print(a.lower())\n",
    "print(a[3].lower())"
   ]
  },
  {
   "cell_type": "code",
   "execution_count": 9,
   "metadata": {},
   "outputs": [
    {
     "name": "stdout",
     "output_type": "stream",
     "text": [
      "5.0\n"
     ]
    }
   ],
   "source": [
    "a=25\n",
    "print(a**(1/2))"
   ]
  },
  {
   "cell_type": "code",
   "execution_count": 15,
   "metadata": {},
   "outputs": [
    {
     "data": {
      "text/plain": [
       "50.0"
      ]
     },
     "execution_count": 15,
     "metadata": {},
     "output_type": "execute_result"
    }
   ],
   "source": [
    "x=(4+2)**(4**(1*2/2)/2)+14\n",
    "x"
   ]
  },
  {
   "cell_type": "code",
   "execution_count": 15,
   "metadata": {},
   "outputs": [
    {
     "name": "stdout",
     "output_type": "stream",
     "text": [
      "I need 25.12 km of fencing\n",
      "I need 50.24 km² of grass\n"
     ]
    }
   ],
   "source": [
    "r=4\n",
    "pi=3.14\n",
    "fence=2*pi*r\n",
    "grass=pi*r**2\n",
    "print(\"I need\",fence, \"km of fencing\")\n",
    "print(\"I need\", grass, \"km² of grass\")\n"
   ]
  },
  {
   "cell_type": "code",
   "execution_count": 16,
   "metadata": {},
   "outputs": [
    {
     "name": "stdout",
     "output_type": "stream",
     "text": [
      "My name is rosa and I am 38 years old.\n"
     ]
    }
   ],
   "source": [
    "name=input(\"Please enter your name:\")\n",
    "dateofbrith=input(\"Please enter your birth year:\") #str olarak algilar ve int e cevirmeliyiz\n",
    "age=2025-int(dateofbrith) \n",
    "print(\"My name is\", name,\"and I am\" ,age, \"years old.\")"
   ]
  },
  {
   "cell_type": "code",
   "execution_count": 17,
   "metadata": {},
   "outputs": [
    {
     "name": "stdout",
     "output_type": "stream",
     "text": [
      "My name is faruk I earn 3660.0 francs,My name is gonul I earn 4880.0 francs.\n"
     ]
    }
   ],
   "source": [
    "person1=input(\"Please enter your name:\")\n",
    "salary1=int(input(\"Please enter your salary:\"))\n",
    "person2=input(\"Please enter your name:\")\n",
    "salary2=int(input(\"Please enter your salary:\"))\n",
    "raise1=salary1+(salary1*22/100)\n",
    "raise2=salary2+(salary2*22/100)\n",
    "print(\"My name is\",person1,\"I earn\",raise1, \"francs,\"+\"My name is\",person2,\"I earn\",raise2, \"francs.\")\n"
   ]
  },
  {
   "cell_type": "code",
   "execution_count": null,
   "metadata": {},
   "outputs": [],
   "source": []
  }
 ],
 "metadata": {
  "kernelspec": {
   "display_name": "Python 3",
   "language": "python",
   "name": "python3"
  },
  "language_info": {
   "codemirror_mode": {
    "name": "ipython",
    "version": 3
   },
   "file_extension": ".py",
   "mimetype": "text/x-python",
   "name": "python",
   "nbconvert_exporter": "python",
   "pygments_lexer": "ipython3",
   "version": "3.13.1"
  }
 },
 "nbformat": 4,
 "nbformat_minor": 2
}
