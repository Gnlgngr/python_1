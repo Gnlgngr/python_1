{
 "cells": [
  {
   "cell_type": "code",
   "execution_count": 23,
   "id": "49e6b747",
   "metadata": {},
   "outputs": [],
   "source": [
    "import numpy as np"
   ]
  },
  {
   "cell_type": "code",
   "execution_count": null,
   "id": "40a5cf89",
   "metadata": {},
   "outputs": [],
   "source": [
    "# itemsize bellekte kac byte kapladigini gosterir\n",
    "#  8 bit  1 byte yapar => 32 bit 4 byte yapar.8 bits make 1 byte; therefore, 32 bits make 4 bytes"
   ]
  },
  {
   "cell_type": "code",
   "execution_count": null,
   "id": "8f6da545",
   "metadata": {},
   "outputs": [
    {
     "name": "stdout",
     "output_type": "stream",
     "text": [
      "float64\n"
     ]
    },
    {
     "data": {
      "text/plain": [
       "8"
      ]
     },
     "execution_count": 16,
     "metadata": {},
     "output_type": "execute_result"
    }
   ],
   "source": [
    "myarray=np.array([1,2,3,4,5,6,7,8,9],dtype=float)\n",
    "print(myarray.dtype)  # 64 bit \n",
    "myarray.itemsize # 8 byte lik bir bellek bulunduruyor.It holds 8 bytes of memory"
   ]
  },
  {
   "cell_type": "code",
   "execution_count": 15,
   "id": "7d5f019d",
   "metadata": {},
   "outputs": [
    {
     "name": "stdout",
     "output_type": "stream",
     "text": [
      "[1 2 3 4 5 6 7 8 9]\n"
     ]
    }
   ],
   "source": [
    "myarray=np.array([1,2,3,4,5,6,7,8,9])\n",
    "myarray2=myarray.copy()\n",
    "print(myarray2)"
   ]
  },
  {
   "cell_type": "code",
   "execution_count": null,
   "id": "00f1472f",
   "metadata": {},
   "outputs": [
    {
     "name": "stdout",
     "output_type": "stream",
     "text": [
      "[[ 1  2  3]\n",
      " [ 4  5  6]\n",
      " [ 7  8  9]\n",
      " [10 11 12]\n",
      " [13 14 15]]\n",
      "[[ 1  4  7 10 13]\n",
      " [ 2  5  8 11 14]\n",
      " [ 3  6  9 12 15]]\n"
     ]
    }
   ],
   "source": [
    "myarray=np.arange(1,16).reshape(5,3)\n",
    "print(myarray)\n",
    "changed=myarray.transpose()  # satir sutun sayilarini yer degistirdi yada transppose() yerine T de yazarsak ayni islemi yapar\n",
    "print(changed) # The column numbers of the DataFrame have swapped places; or if we write T instead of transpose(), we perform the same operation."
   ]
  },
  {
   "cell_type": "code",
   "execution_count": null,
   "id": "1547e060",
   "metadata": {},
   "outputs": [
    {
     "name": "stdout",
     "output_type": "stream",
     "text": [
      "[1 2 3 4 5 6] [ 7  8  9 10 11 12]\n",
      "[ 1  2  3  4  5  6  7  8  9 10 11 12]\n"
     ]
    }
   ],
   "source": [
    "# concatenate ikiden fazla matrisi birlestirmek\n",
    "# Concatenate more than two matrices.\n",
    "myarray01=np.arange(1,7)\n",
    "myarray02=np.arange(7,13)\n",
    "print(myarray01,myarray02)\n",
    "\n",
    "birlestirilen=np.concatenate((myarray01,myarray02))\n",
    "print(birlestirilen)\n"
   ]
  },
  {
   "cell_type": "code",
   "execution_count": null,
   "id": "ec10d598",
   "metadata": {},
   "outputs": [
    {
     "name": "stdout",
     "output_type": "stream",
     "text": [
      "[[1 2]\n",
      " [3 4]] [[5 6]\n",
      " [7 8]]\n",
      "[[1 2]\n",
      " [3 4]\n",
      " [5 6]\n",
      " [7 8]] [[1 2 5 6]\n",
      " [3 4 7 8]]\n"
     ]
    }
   ],
   "source": [
    "import numpy as np\n",
    "myarray01=np.array([[1,2],[3,4]])\n",
    "myarray02=np.array([[5,6],[7,8]])\n",
    "print(myarray01,myarray02)\n",
    "\n",
    "birlestirilen1=np.concatenate((myarray01,myarray02),axis=0)# iki boyutlu matris toplami. axis=0 demek satir gibi topla demek.Sum of a two-dimensional matrix. Using axis=0 means summing along rows\n",
    "birlestirilen2=np.concatenate((myarray01,myarray02),axis=1)# axis=1 sutun gibi topla demek.axis=1 sutun gibi topla demek.\n",
    "# satir ve sutun sayilari birbirine esit olmali\n",
    "#The number of rows and columns must be equal.\n",
    "\n",
    "print(birlestirilen1, birlestirilen2)\n",
    "\n"
   ]
  },
  {
   "cell_type": "code",
   "execution_count": null,
   "id": "a5c7929b",
   "metadata": {},
   "outputs": [
    {
     "name": "stdout",
     "output_type": "stream",
     "text": [
      "[0 1 2 3 4 5 6 7 8 9]\n",
      "[array([0, 1]), array([2, 3]), array([4, 5]), array([6, 7]), array([8, 9])]\n"
     ]
    }
   ],
   "source": [
    "import numpy as np\n",
    "array03=np.arange(0,10)\n",
    "print(array03)\n",
    "bolunen=np.split(array03,5)   # esit parcalar seklinde dizilere  boler. Splits into equal parts as arrays\n",
    "print(bolunen)"
   ]
  },
  {
   "cell_type": "code",
   "execution_count": null,
   "id": "58197b4f",
   "metadata": {},
   "outputs": [
    {
     "name": "stdout",
     "output_type": "stream",
     "text": [
      "[0 1 2 3 4 5 6 7 8 9]\n",
      "[array([0, 1, 2]), array([3, 4, 5]), array([6, 7]), array([8, 9])]\n"
     ]
    }
   ],
   "source": [
    "import numpy as np\n",
    "array03=np.arange(0,10)\n",
    "print(array03)\n",
    "bolunen=np.array_split(array03,4)   # esit olmayan  parcalar seklinde dizilere boler. Splits into unequal parts as arrays\n",
    "print(bolunen)"
   ]
  },
  {
   "cell_type": "code",
   "execution_count": null,
   "id": "d06dd80a",
   "metadata": {},
   "outputs": [
    {
     "name": "stdout",
     "output_type": "stream",
     "text": [
      "[3.000e+02 5.000e+00 6.780e+02 4.500e+01 1.200e+01 1.000e+00 7.600e+01\n",
      " 3.265e+03 4.580e+02       nan]\n"
     ]
    },
    {
     "data": {
      "text/plain": [
       "array([1.000e+00, 5.000e+00, 1.200e+01, 4.500e+01, 7.600e+01, 3.000e+02,\n",
       "       4.580e+02, 6.780e+02, 3.265e+03,       nan])"
      ]
     },
     "execution_count": 21,
     "metadata": {},
     "output_type": "execute_result"
    }
   ],
   "source": [
    "import numpy as np\n",
    "array03=np.array([300,5,678,45,12,1,76,3265,458,np.nan]) # nan deger olmadigi icin en sona yazdiriyor.It writes at the end because there is no NaN value\n",
    "print(array03)\n",
    "np.sort(array03) # kucukten buyuge  dogru siraliyor.It sorts in ascending order.\n"
   ]
  },
  {
   "cell_type": "code",
   "execution_count": null,
   "id": "5df91778",
   "metadata": {},
   "outputs": [
    {
     "name": "stdout",
     "output_type": "stream",
     "text": [
      "[ 300    5  678   45   12    1   76 3265  458]\n"
     ]
    },
    {
     "data": {
      "text/plain": [
       "array([3265,  678,  458,  300,   76,   45,   12,    5,    1])"
      ]
     },
     "execution_count": 24,
     "metadata": {},
     "output_type": "execute_result"
    }
   ],
   "source": [
    "array03=np.array([300,5,678,45,12,1,76,3265,458])\n",
    "print(array03)\n",
    "np.sort(array03)[::-1]  # buyukten kucuge dogru siraliyor.It sorts in descending order."
   ]
  },
  {
   "cell_type": "code",
   "execution_count": null,
   "id": "4cd1adbd",
   "metadata": {},
   "outputs": [],
   "source": []
  }
 ],
 "metadata": {
  "kernelspec": {
   "display_name": "Python 3",
   "language": "python",
   "name": "python3"
  },
  "language_info": {
   "codemirror_mode": {
    "name": "ipython",
    "version": 3
   },
   "file_extension": ".py",
   "mimetype": "text/x-python",
   "name": "python",
   "nbconvert_exporter": "python",
   "pygments_lexer": "ipython3",
   "version": "3.13.3"
  }
 },
 "nbformat": 4,
 "nbformat_minor": 5
}
