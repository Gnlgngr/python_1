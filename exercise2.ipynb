{
 "cells": [
  {
   "cell_type": "code",
   "execution_count": null,
   "metadata": {},
   "outputs": [],
   "source": [
    "a=input(\"Please enter your age:\") #eger input varsa disaridn alinan bir deger vardir \n",
    "print(\"your age:\",a) #If there is user input, it means a value has been entered from outside the program"
   ]
  },
  {
   "cell_type": "code",
   "execution_count": null,
   "metadata": {},
   "outputs": [],
   "source": [
    "a=int(input(\"Please enter your age:\")) # ifademiz str old icin sayi degeri girileceginden dolayi int e cevirdik \n",
    "print(type(a)) # \"Because the input is a string and we expect a number, we converted it to an integer.\n",
    "print(\"Your date of brith :\", 2025-a )"
   ]
  },
  {
   "cell_type": "code",
   "execution_count": null,
   "metadata": {},
   "outputs": [
    {
     "name": "stdout",
     "output_type": "stream",
     "text": [
      "average index: 17.63085399449036\n"
     ]
    }
   ],
   "source": [
    "height=float(input(\"Please enter your height in centimeters:\"))\n",
    "weight=int(input(\"Please enter your weight in kilograms:\"))\n",
    "index=weight/((height/100)**2) \n",
    "print(\"average index:\", index)"
   ]
  },
  {
   "cell_type": "code",
   "execution_count": null,
   "metadata": {},
   "outputs": [
    {
     "name": "stdout",
     "output_type": "stream",
     "text": [
      "average index: 17.63085399449036\n",
      "Your weight is normal\n"
     ]
    }
   ],
   "source": [
    "height=float(input(\"Please enter your height in centimeters:\"))\n",
    "weight=int(input(\"Please enter your weight in kilograms:\"))\n",
    "index=weight/((height/100)**2)\n",
    "print(\"average index:\", index)\n",
    "if(index > 30):  # if in sonundaki (:) unutmayacagiz # Don't forget the colon (:) at the end of an if statement\n",
    "    print(\"You are obese\")\n",
    "\n",
    "else:\n",
    "    print(\"Your weight is normal\")\n",
    "\n",
    "\n"
   ]
  },
  {
   "cell_type": "code",
   "execution_count": null,
   "metadata": {},
   "outputs": [
    {
     "name": "stdout",
     "output_type": "stream",
     "text": [
      "average index: 17.63085399449036\n",
      "You are slim\n"
     ]
    }
   ],
   "source": [
    "height=float(input(\"Please enter your height in centimeters:\"))\n",
    "weight=int(input(\"Please enter your weight in kilograms:\"))\n",
    "index=weight/((height/100)**2)\n",
    "print(\"average index:\", index)\n",
    "if(index<18.5):   #if ile else arasindaki olasiliklar elif olur.\n",
    "    print(\"You are slim\")\n",
    "elif(18.5<=index<=24.9):   # The possibilities between if and else are handled by elif.\n",
    "    print(\"Your weight is normal\")\n",
    "\n",
    "elif(25<=index<=29.9):\n",
    "    print(\"You are overweight\")\n",
    "elif(30<=index<=40):\n",
    "    print(\"You are obese\")\n",
    "\n",
    "else:\n",
    "    print(\"You are super obese\")        "
   ]
  },
  {
   "cell_type": "code",
   "execution_count": null,
   "metadata": {},
   "outputs": [
    {
     "name": "stdout",
     "output_type": "stream",
     "text": [
      "The equivalent of the value you entered in USD is:  97.0\n"
     ]
    }
   ],
   "source": [
    "currency=str(input(\"Please enter the currency (USD/Euro):\"))\n",
    "amountofmoney=int(input(\"Please enter the amount of money:\"))\n",
    "if(currency==\"Euro\"):   #== degisken olmuyor\n",
    "    print(\"The equivalent of the value you entered in EURO is:\", amountofmoney*1.03)\n",
    "else:\n",
    "    print(\"The equivalent of the value you entered in USD is: \", amountofmoney*0.97)  \n",
    "\n",
    "\n",
    "\n"
   ]
  },
  {
   "cell_type": "code",
   "execution_count": 4,
   "metadata": {},
   "outputs": [
    {
     "name": "stdout",
     "output_type": "stream",
     "text": [
      "Your current salary: 5000\n",
      "Your salary with a %25 raise is: 6250.0\n"
     ]
    }
   ],
   "source": [
    "salary=int(input(\"Please enter your salary:\"))\n",
    "print(\"Your current salary:\",salary)\n",
    "if(0<salary<4200):\n",
    "    print(\"Apply for unemployment \")\n",
    "elif(4200<salary<7000):\n",
    "    print(\"Your salary with a %25 raise is:\",salary*1.25)\n",
    "elif(7000<salary<10000):\n",
    "    print(\"Your salary with a % 10 raise is\",salary*1.10)\n",
    "elif(10000<maas<20000):\n",
    "    print(\"Your salary with a % 5 raise is\", salary*1.05)\n",
    "else:\n",
    "    print(\"Your income does not meet the criteria for a salary raise.\")            "
   ]
  },
  {
   "cell_type": "code",
   "execution_count": 5,
   "metadata": {},
   "outputs": [
    {
     "name": "stdout",
     "output_type": "stream",
     "text": [
      "3  is not bigger then 5\n"
     ]
    }
   ],
   "source": [
    "x=int(input(\"Please enter a number between 1 and 20:\"))\n",
    "\n",
    "if(x<5):\n",
    "    print(x,\" is not bigger then 5\")\n",
    "elif(x<10 and x==10 ):\n",
    "    print(x,\" is between 5 and 10\")\n",
    "elif(x<=15):\n",
    "    print(x,\"is between 10 and 15\")\n",
    "else:\n",
    "    print(x,\"is bigger then 15\")            "
   ]
  }
 ],
 "metadata": {
  "kernelspec": {
   "display_name": "Python 3",
   "language": "python",
   "name": "python3"
  },
  "language_info": {
   "codemirror_mode": {
    "name": "ipython",
    "version": 3
   },
   "file_extension": ".py",
   "mimetype": "text/x-python",
   "name": "python",
   "nbconvert_exporter": "python",
   "pygments_lexer": "ipython3",
   "version": "3.13.1"
  }
 },
 "nbformat": 4,
 "nbformat_minor": 2
}
