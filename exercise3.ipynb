{
 "cells": [
  {
   "cell_type": "code",
   "execution_count": 9,
   "metadata": {},
   "outputs": [
    {
     "data": {
      "text/plain": [
       "'Artificial IntelligenceTechnologies'"
      ]
     },
     "execution_count": 9,
     "metadata": {},
     "output_type": "execute_result"
    }
   ],
   "source": [
    "\"Artificial\" + \" Intelligence\" + \"Technologies\""
   ]
  },
  {
   "cell_type": "code",
   "execution_count": 11,
   "metadata": {},
   "outputs": [
    {
     "ename": "TypeError",
     "evalue": "can't multiply sequence by non-int of type 'str'",
     "output_type": "error",
     "traceback": [
      "\u001b[1;31m---------------------------------------------------------------------------\u001b[0m",
      "\u001b[1;31mTypeError\u001b[0m                                 Traceback (most recent call last)",
      "Cell \u001b[1;32mIn[11], line 1\u001b[0m\n\u001b[1;32m----> 1\u001b[0m \u001b[38;5;124;43m\"\u001b[39;49m\u001b[38;5;124;43mArtificial\u001b[39;49m\u001b[38;5;124;43m\"\u001b[39;49m\u001b[43m \u001b[49m\u001b[38;5;241;43m*\u001b[39;49m\u001b[43m \u001b[49m\u001b[38;5;124;43m\"\u001b[39;49m\u001b[38;5;124;43m Intelligence \u001b[39;49m\u001b[38;5;124;43m\"\u001b[39;49m \u001b[38;5;241m*\u001b[39m \u001b[38;5;124m\"\u001b[39m\u001b[38;5;124mTechnologies\u001b[39m\u001b[38;5;124m\"\u001b[39m \u001b[38;5;66;03m# str le str i carpamiyoruz, sadece int le carpabiliriz. floatla ile carpilmaz\u001b[39;00m\n\u001b[0;32m      2\u001b[0m \u001b[38;5;66;03m# We can't multiply a string by another string; we can only multiply it by an integer. It cannot be multiplied by a float.\u001b[39;00m\n\u001b[0;32m      3\u001b[0m \u001b[38;5;66;03m# That's why this program will give an error.\u001b[39;00m\n",
      "\u001b[1;31mTypeError\u001b[0m: can't multiply sequence by non-int of type 'str'"
     ]
    }
   ],
   "source": [
    "\"Artificial\" * \" Intelligence \" * \"Technologies\" # str le str i carpamiyoruz, sadece int le carpabiliriz. floatla ile carpilmaz\n",
    "# We can't multiply a string by another string; we can only multiply it by an integer. It cannot be multiplied by a float.\n",
    "# That's why this program will give an error."
   ]
  },
  {
   "cell_type": "code",
   "execution_count": null,
   "metadata": {},
   "outputs": [
    {
     "ename": "TypeError",
     "evalue": "unsupported operand type(s) for /: 'str' and 'int'",
     "output_type": "error",
     "traceback": [
      "\u001b[1;31m---------------------------------------------------------------------------\u001b[0m",
      "\u001b[1;31mTypeError\u001b[0m                                 Traceback (most recent call last)",
      "Cell \u001b[1;32mIn[12], line 1\u001b[0m\n\u001b[1;32m----> 1\u001b[0m \u001b[38;5;124;43m\"\u001b[39;49m\u001b[38;5;124;43martificial\u001b[39;49m\u001b[38;5;124;43m\"\u001b[39;49m\u001b[38;5;241;43m/\u001b[39;49m\u001b[38;5;241;43m5\u001b[39;49m \u001b[38;5;66;03m#str le sayi bolunmez\u001b[39;00m\n",
      "\u001b[1;31mTypeError\u001b[0m: unsupported operand type(s) for /: 'str' and 'int'"
     ]
    }
   ],
   "source": [
    "\"artificial\"/5 #str le sayi bolunmez # A string cannot be divided by a number"
   ]
  },
  {
   "cell_type": "code",
   "execution_count": null,
   "metadata": {},
   "outputs": [
    {
     "data": {
      "text/plain": [
       "'Artificial intelligence'"
      ]
     },
     "execution_count": 18,
     "metadata": {},
     "output_type": "execute_result"
    }
   ],
   "source": [
    "\"Artificial Intelligence\".capitalize() # sadece ilk harfini buyuk yazdiriyor. buyukleride kucuk yapiyor\n",
    "# This command only capitalizes the first letter."
   ]
  },
  {
   "cell_type": "code",
   "execution_count": null,
   "metadata": {},
   "outputs": [
    {
     "data": {
      "text/plain": [
       "'Artificial Intelligence Will Grow Much More In The Near Future'"
      ]
     },
     "execution_count": 19,
     "metadata": {},
     "output_type": "execute_result"
    }
   ],
   "source": [
    "\"Artificial intelligence will grow much more in the near future\".title() #kelimelerin ilk harflerini buyutuyor\n",
    "# This command capitalizes the first letter of each word."
   ]
  },
  {
   "cell_type": "code",
   "execution_count": 21,
   "metadata": {},
   "outputs": [
    {
     "data": {
      "text/plain": [
       "'Artufucual Intellugence'"
      ]
     },
     "execution_count": 21,
     "metadata": {},
     "output_type": "execute_result"
    }
   ],
   "source": [
    "\"Artificial Intelligence\".replace(\"i\",\"u\") #birinci harf degisecek  ikincisi yerine gelecek olan harf\n",
    "# The first letter will change, and the second letter will take its place"
   ]
  },
  {
   "cell_type": "code",
   "execution_count": null,
   "metadata": {},
   "outputs": [
    {
     "data": {
      "text/plain": [
       "'Arkificial Intelligence'"
      ]
     },
     "execution_count": 22,
     "metadata": {},
     "output_type": "execute_result"
    }
   ],
   "source": [
    "\"Artificial Intelligence\".replace(\"t\",\"k\",1) # sadece 1. y yi degistireceksek 1 ekliyoruz\n",
    "# If we are only changing the first 'y', we add 1"
   ]
  },
  {
   "cell_type": "code",
   "execution_count": 23,
   "metadata": {},
   "outputs": [
    {
     "data": {
      "text/plain": [
       "'Artificia!T Intettigence'"
      ]
     },
     "execution_count": 23,
     "metadata": {},
     "output_type": "execute_result"
    }
   ],
   "source": [
    "\"Artificial Intelligence\".replace(\"l\",\"t\").replace(\"a\",\"a!\",-1).title()"
   ]
  },
  {
   "cell_type": "code",
   "execution_count": null,
   "metadata": {},
   "outputs": [
    {
     "data": {
      "text/plain": [
       "True"
      ]
     },
     "execution_count": 3,
     "metadata": {},
     "output_type": "execute_result"
    }
   ],
   "source": [
    "\"ArtificialIntelligence2025\".isalnum() # karakter var mi diye bakiyor\n",
    "# this command checks if the character exists."
   ]
  },
  {
   "cell_type": "code",
   "execution_count": null,
   "metadata": {},
   "outputs": [
    {
     "data": {
      "text/plain": [
       "True"
      ]
     },
     "execution_count": 10,
     "metadata": {},
     "output_type": "execute_result"
    }
   ],
   "source": [
    "\"fugu ih2ohui\".islower() #hepsi kucuk harf mi diye bakiyor\n",
    "# This command checks if all the letters are lowercase"
   ]
  },
  {
   "cell_type": "code",
   "execution_count": null,
   "metadata": {},
   "outputs": [
    {
     "data": {
      "text/plain": [
       "True"
      ]
     },
     "execution_count": 55,
     "metadata": {},
     "output_type": "execute_result"
    }
   ],
   "source": [
    "\"Aijojmk Aoiookp\".istitle() # kelimelerin bas harfleri buyuk mu diye bakiyor\n",
    "# This command checks if the first letter of each word is capitalized."
   ]
  },
  {
   "cell_type": "code",
   "execution_count": null,
   "metadata": {},
   "outputs": [
    {
     "data": {
      "text/plain": [
       "False"
      ]
     },
     "execution_count": 11,
     "metadata": {},
     "output_type": "execute_result"
    }
   ],
   "source": [
    "\"556 ijm\".isnumeric() # kelime numaralardan mi olusuyor diye bakar\n",
    "# This command checks if the word consists of numbers"
   ]
  },
  {
   "cell_type": "code",
   "execution_count": null,
   "metadata": {},
   "outputs": [
    {
     "data": {
      "text/plain": [
       "True"
      ]
     },
     "execution_count": 64,
     "metadata": {},
     "output_type": "execute_result"
    }
   ],
   "source": [
    "\"123moodsm\".isascii() # hepsi ing karakter mi diye bakar\n",
    "# This command checks if all the characters are English letters."
   ]
  },
  {
   "cell_type": "code",
   "execution_count": null,
   "metadata": {},
   "outputs": [],
   "source": [
    "\"drzfzi35732225\".count(\"3\") # metinin icinde kac tane 3ten old. bakiyor\n",
    " # This command checks how many times '3' appears in the text."
   ]
  },
  {
   "cell_type": "code",
   "execution_count": null,
   "metadata": {},
   "outputs": [
    {
     "data": {
      "text/plain": [
       "8"
      ]
     },
     "execution_count": 67,
     "metadata": {},
     "output_type": "execute_result"
    }
   ],
   "source": [
    "\"dtfzuhi\".count(\"\") # kac harfli oldugunu yazar -1 haliyle\n",
    "# This command writes how many letters it has, excluding 1"
   ]
  },
  {
   "cell_type": "code",
   "execution_count": 69,
   "metadata": {},
   "outputs": [
    {
     "data": {
      "text/plain": [
       "'Keelimee Keelimee'"
      ]
     },
     "execution_count": 69,
     "metadata": {},
     "output_type": "execute_result"
    }
   ],
   "source": [
    "\"kelime kelime\".capitalize().replace(\"e\",\"ee\").title()"
   ]
  },
  {
   "cell_type": "code",
   "execution_count": null,
   "metadata": {},
   "outputs": [
    {
     "data": {
      "text/plain": [
       "2"
      ]
     },
     "execution_count": 71,
     "metadata": {},
     "output_type": "execute_result"
    }
   ],
   "source": [
    "\"initiative geneve\".count(\"i\",3,16) # hangi araliklarda kac tane var diye bakiyoruz \n",
    "# This command checks how many times it appears within specific ranges."
   ]
  },
  {
   "cell_type": "code",
   "execution_count": null,
   "metadata": {},
   "outputs": [
    {
     "data": {
      "text/plain": [
       "['I',\n",
       " 'am',\n",
       " 'happy',\n",
       " 'to',\n",
       " 'be',\n",
       " 'in',\n",
       " 'Geneva',\n",
       " 'and',\n",
       " 'to',\n",
       " 'have',\n",
       " 'met',\n",
       " 'you.']"
      ]
     },
     "execution_count": 24,
     "metadata": {},
     "output_type": "execute_result"
    }
   ],
   "source": [
    "\"I am happy to be in Geneva and to have met you.\".split() #kelimeleri ayri ayri str olarak yazdirir\n",
    "#It prints the words as separate strings."
   ]
  },
  {
   "cell_type": "code",
   "execution_count": null,
   "metadata": {},
   "outputs": [
    {
     "data": {
      "text/plain": [
       "['I am happy ', 'o be in Geneva and ', 'o have me', ' you.']"
      ]
     },
     "execution_count": 25,
     "metadata": {},
     "output_type": "execute_result"
    }
   ],
   "source": [
    "\"I am happy to be in Geneva and to have met you.\".split(\"t\") #sadece m ye kadar olan yerleri ayirir\n",
    "# It only separates up to the letter 't'."
   ]
  },
  {
   "cell_type": "code",
   "execution_count": null,
   "metadata": {},
   "outputs": [
    {
     "data": {
      "text/plain": [
       "['I', 'am', 'happy', 'to be in Geneva and to have met you.']"
      ]
     },
     "execution_count": 34,
     "metadata": {},
     "output_type": "execute_result"
    }
   ],
   "source": [
    "\"I am happy to be in Geneva and to have met you.\".split(maxsplit=3) "
   ]
  },
  {
   "cell_type": "code",
   "execution_count": 33,
   "metadata": {},
   "outputs": [
    {
     "data": {
      "text/plain": [
       "['I a', ' happy to be in Geneva and to have ', 'et you.']"
      ]
     },
     "execution_count": 33,
     "metadata": {},
     "output_type": "execute_result"
    }
   ],
   "source": [
    "\"I am happy to be in Geneva and to have met you.\".split(\"m\",maxsplit=2)"
   ]
  },
  {
   "cell_type": "code",
   "execution_count": null,
   "metadata": {},
   "outputs": [
    {
     "data": {
      "text/plain": [
       "'I am happy to be in Geneva and to have met you.'"
      ]
     },
     "execution_count": 32,
     "metadata": {},
     "output_type": "execute_result"
    }
   ],
   "source": [
    "\"     I am happy to be in Geneva and to have met you.   \".strip() #bas ve sondaki karakterleri siler\n",
    "# It removes the characters from the beginning and the end"
   ]
  },
  {
   "cell_type": "code",
   "execution_count": null,
   "metadata": {},
   "outputs": [
    {
     "data": {
      "text/plain": [
       "'Cenevrede oldugum ve sizi*** tanidigim icin mutluyum.'"
      ]
     },
     "execution_count": 4,
     "metadata": {},
     "output_type": "execute_result"
    }
   ],
   "source": [
    "\"***I am happy to be in Geneva **** and to have met you.***\".strip(\"*\") #basindaki sonundaki * lari siler\n",
    "# It removes the '*' characters from the beginning and the end"
   ]
  },
  {
   "cell_type": "code",
   "execution_count": 31,
   "metadata": {},
   "outputs": [
    {
     "data": {
      "text/plain": [
       "'I am happy to be in Geneva and to have met you.   '"
      ]
     },
     "execution_count": 31,
     "metadata": {},
     "output_type": "execute_result"
    }
   ],
   "source": [
    "\"   I am happy to be in Geneva and to have met you.   \".lstrip() # sadece soldakini siler\n",
    "# It only removes the spaces on the left"
   ]
  },
  {
   "cell_type": "code",
   "execution_count": null,
   "metadata": {},
   "outputs": [
    {
     "data": {
      "text/plain": [
       "'   I am happy to be in Geneva and to have met you.'"
      ]
     },
     "execution_count": 30,
     "metadata": {},
     "output_type": "execute_result"
    }
   ],
   "source": [
    "\"   I am happy to be in Geneva and to have met you.    \".rstrip() #sadece sagdakini siler\n",
    "# It only removes the spaces on the right."
   ]
  },
  {
   "cell_type": "code",
   "execution_count": null,
   "metadata": {},
   "outputs": [
    {
     "data": {
      "text/plain": [
       "'   I am happy to be in Geneva and to have met you.'"
      ]
     },
     "execution_count": 28,
     "metadata": {},
     "output_type": "execute_result"
    }
   ],
   "source": [
    "\"   I am happy to be in Geneva and to have met you.\".strip(\"to\").strip(\"t\") # zi nin kombinasyon hallerini de siler\n",
    "# zi, iz, zz,ii leri yani\n",
    "# ?"
   ]
  },
  {
   "cell_type": "code",
   "execution_count": 29,
   "metadata": {},
   "outputs": [
    {
     "data": {
      "text/plain": [
       "53"
      ]
     },
     "execution_count": 29,
     "metadata": {},
     "output_type": "execute_result"
    }
   ],
   "source": [
    "len(\"   I am happy to be in Geneva and to have met you.   \") #It counts how many letters there are \n",
    "# kac tane harf oldugunu sayar\n"
   ]
  }
 ],
 "metadata": {
  "kernelspec": {
   "display_name": "Python 3",
   "language": "python",
   "name": "python3"
  },
  "language_info": {
   "codemirror_mode": {
    "name": "ipython",
    "version": 3
   },
   "file_extension": ".py",
   "mimetype": "text/x-python",
   "name": "python",
   "nbconvert_exporter": "python",
   "pygments_lexer": "ipython3",
   "version": "3.13.1"
  }
 },
 "nbformat": 4,
 "nbformat_minor": 2
}
