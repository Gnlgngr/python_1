{
 "cells": [
  {
   "cell_type": "code",
   "execution_count": 3,
   "metadata": {},
   "outputs": [],
   "source": []
  },
  {
   "cell_type": "markdown",
   "metadata": {},
   "source": [
    "# pep8\n",
    "## pep8\n",
    "### pep8"
   ]
  },
  {
   "cell_type": "code",
   "execution_count": 4,
   "metadata": {},
   "outputs": [
    {
     "data": {
      "text/plain": [
       "11"
      ]
     },
     "execution_count": 4,
     "metadata": {},
     "output_type": "execute_result"
    }
   ],
   "source": [
    "3+8"
   ]
  },
  {
   "cell_type": "code",
   "execution_count": 3,
   "metadata": {},
   "outputs": [
    {
     "name": "stdout",
     "output_type": "stream",
     "text": [
      "name1\n"
     ]
    }
   ],
   "source": [
    "name=\"name1\"\n",
    "print(name)"
   ]
  },
  {
   "cell_type": "code",
   "execution_count": 6,
   "metadata": {},
   "outputs": [
    {
     "name": "stdout",
     "output_type": "stream",
     "text": [
      "201240\n"
     ]
    }
   ],
   "source": [
    "a=520\n",
    "b=387\n",
    "print(a*b)"
   ]
  },
  {
   "cell_type": "code",
   "execution_count": 2,
   "metadata": {},
   "outputs": [
    {
     "name": "stdout",
     "output_type": "stream",
     "text": [
      "my name is not Rosa\n"
     ]
    }
   ],
   "source": [
    "a=\"my name is\"\n",
    "b=\"not\"\n",
    "c=\"Rosa\"\n",
    "print(a,b,c)"
   ]
  },
  {
   "cell_type": "code",
   "execution_count": 5,
   "metadata": {},
   "outputs": [
    {
     "name": "stdout",
     "output_type": "stream",
     "text": [
      "1988\n",
      "Your date of brith is 1988\n"
     ]
    }
   ],
   "source": [
    "age= 37\n",
    "years= 2025\n",
    "dateofbrith= years-age\n",
    "print(dateofbrith)\n",
    "print(\"Your date of brith is\", dateofbrith, )\n"
   ]
  },
  {
   "cell_type": "code",
   "execution_count": 8,
   "metadata": {},
   "outputs": [
    {
     "name": "stdout",
     "output_type": "stream",
     "text": [
      "Rosa is  58 years old.\n"
     ]
    }
   ],
   "source": [
    "name=\"Rosa\"\n",
    "age=37\n",
    "age=58 #en son degisken hangisi ise onu yazdirir.print the most recently modified variable.\n",
    "print(name,\"is \", age,\"years old.\")  #eger yas degerini printden sonra yazarsak hata verir.\n",
    "# if we place the age variable after the print statement without defining it first,it will raise an error"
   ]
  },
  {
   "cell_type": "code",
   "execution_count": null,
   "metadata": {},
   "outputs": [],
   "source": [
    "name1=\"name1\"\n",
    "name_2=\"name2\"\n",
    "name3=\"name3\"  #degisken isimleri sayi,isaretlerle ve - ile calismaz.\n",
    "# variable names don\"t work with numbers or symbols"
   ]
  },
  {
   "cell_type": "code",
   "execution_count": 9,
   "metadata": {},
   "outputs": [
    {
     "name": "stdout",
     "output_type": "stream",
     "text": [
      "name\n"
     ]
    }
   ],
   "source": [
    "name1=\"name\"\n",
    "print(name1) #eger kucuk harfle tanimladiysam buyuk harfle tanimaz.\n",
    "# if we define it with a lowercase letter, we have to print it the same way"
   ]
  },
  {
   "cell_type": "markdown",
   "metadata": {},
   "source": []
  },
  {
   "cell_type": "markdown",
   "metadata": {},
   "source": []
  },
  {
   "cell_type": "code",
   "execution_count": null,
   "metadata": {},
   "outputs": [
    {
     "name": "stdout",
     "output_type": "stream",
     "text": [
      "Rosa1 is 10 years old, Rosa2 is 20 years old.\n"
     ]
    }
   ],
   "source": [
    "name1=\"Rosa1\"\n",
    "name2=\"Rosa2\"\n",
    "age_1=20\n",
    "age_2=10\n",
    "print(name1,\"is\",age_2,\"years old,\",name2,\"is\",age_1,\"years old.\") #degiskenlere dikkat etmeliyiz.\n",
    "# we should be careful with variables"
   ]
  },
  {
   "cell_type": "code",
   "execution_count": 14,
   "metadata": {},
   "outputs": [
    {
     "ename": "TypeError",
     "evalue": "cannot unpack non-iterable int object",
     "output_type": "error",
     "traceback": [
      "\u001b[1;31m---------------------------------------------------------------------------\u001b[0m",
      "\u001b[1;31mTypeError\u001b[0m                                 Traceback (most recent call last)",
      "Cell \u001b[1;32mIn[14], line 3\u001b[0m\n\u001b[0;32m      1\u001b[0m name1,name2,name3\u001b[38;5;241m=\u001b[39m\u001b[38;5;124m\"\u001b[39m\u001b[38;5;124mRosa1\u001b[39m\u001b[38;5;124m\"\u001b[39m,\u001b[38;5;124m\"\u001b[39m\u001b[38;5;124mRosa2\u001b[39m\u001b[38;5;124m\"\u001b[39m,\u001b[38;5;124m\"\u001b[39m\u001b[38;5;124mRosa3\u001b[39m\u001b[38;5;124m\"\u001b[39m \u001b[38;5;66;03m#3. isme degisken tanimlamadigimiz icin hata veriyor\u001b[39;00m\n\u001b[0;32m      2\u001b[0m \u001b[38;5;66;03m# it gives an error because we didn\"t define a variable for the third name\u001b[39;00m\n\u001b[1;32m----> 3\u001b[0m age1,age2\u001b[38;5;241m=\u001b[39m\u001b[38;5;241m20\u001b[39m \n\u001b[0;32m      4\u001b[0m \u001b[38;5;28mprint\u001b[39m(name1,name2,age1,age2)\n",
      "\u001b[1;31mTypeError\u001b[0m: cannot unpack non-iterable int object"
     ]
    }
   ],
   "source": [
    "name1,name2,name3=\"Rosa1\",\"Rosa2\",\"Rosa3\" #3. isme degisken tanimlamadigimiz icin hata veriyor\n",
    "# it gives an error because we didn\"t define a variable for the third name\n",
    "age1,age2=20 \n",
    "print(name1,name2,age1,age2)"
   ]
  },
  {
   "cell_type": "code",
   "execution_count": 26,
   "metadata": {},
   "outputs": [
    {
     "name": "stdout",
     "output_type": "stream",
     "text": [
      "20\n"
     ]
    }
   ],
   "source": [
    "age1=age2=age3=20 \n",
    "print(age1)"
   ]
  },
  {
   "cell_type": "code",
   "execution_count": 16,
   "metadata": {},
   "outputs": [
    {
     "name": "stdout",
     "output_type": "stream",
     "text": [
      "october has 31  days.\n"
     ]
    }
   ],
   "source": [
    "april=june=september=november=30\n",
    "january=march=may=july=august=october=december=31\n",
    "february=28\n",
    "print(\"october has\", october,\" days.\")  \n"
   ]
  },
  {
   "cell_type": "code",
   "execution_count": null,
   "metadata": {},
   "outputs": [
    {
     "name": "stdout",
     "output_type": "stream",
     "text": [
      "<class 'int'>\n",
      "<class 'str'>\n",
      "<class 'float'>\n",
      "<class 'bool'>\n"
     ]
    }
   ],
   "source": [
    "x=3 #integers are of the integer type. tamsayilar integer tipidir.\n",
    "y=\"whatabi\" #tirnak ici ifade string tipidir. # a value inside quotation marks is of the string type.\n",
    "z=3.14  #ondalik sayilar float tipidir. floating-point numbers are of the float type.\n",
    "print(type(x))\n",
    "print(type(y))\n",
    "print(type(z))\n",
    "print(type(False)) #boolean degeri False ve True dir. # boolean values are false or true"
   ]
  },
  {
   "cell_type": "code",
   "execution_count": 17,
   "metadata": {},
   "outputs": [
    {
     "name": "stdout",
     "output_type": "stream",
     "text": [
      "<class 'str'>\n",
      "<class 'int'>\n",
      "<class 'float'>\n",
      "<class 'bool'>\n",
      "I have a 3 volvo with 70.25 on it,and  True\n"
     ]
    }
   ],
   "source": [
    "brand=\"volvo\"\n",
    "age=3\n",
    "km=70.25\n",
    "accident_situation=True\n",
    "print(type(brand))\n",
    "print(type(age))\n",
    "print(type(km))\n",
    "print(type(True))\n",
    "print(\"I have a\",age,brand,\"with\",km,\"on it,and \", accident_situation)\n",
    "\n",
    "\n"
   ]
  },
  {
   "cell_type": "code",
   "execution_count": null,
   "metadata": {},
   "outputs": [
    {
     "ename": "NameError",
     "evalue": "name 'x' is not defined",
     "output_type": "error",
     "traceback": [
      "\u001b[1;31m---------------------------------------------------------------------------\u001b[0m",
      "\u001b[1;31mNameError\u001b[0m                                 Traceback (most recent call last)",
      "Cell \u001b[1;32mIn[73], line 2\u001b[0m\n\u001b[0;32m      1\u001b[0m y\u001b[38;5;241m=\u001b[39m\u001b[38;5;241m7.8\u001b[39m \u001b[38;5;66;03m# x ifadesini sildikten sonra hala ayni sonucu verdi. del x komuduyla x i silmis oluyor\u001b[39;00m\n\u001b[1;32m----> 2\u001b[0m \u001b[38;5;28mprint\u001b[39m(\u001b[43mx\u001b[49m)  \u001b[38;5;66;03m#(ustun devami)ve hata veriyor\u001b[39;00m\n\u001b[0;32m      3\u001b[0m \u001b[38;5;28;01mdel\u001b[39;00m x    \u001b[38;5;66;03m# ramde olup olmadigini kontrol ediyoruz \u001b[39;00m\n\u001b[0;32m      4\u001b[0m \u001b[38;5;28mprint\u001b[39m(x)\n",
      "\u001b[1;31mNameError\u001b[0m: name 'x' is not defined"
     ]
    }
   ],
   "source": [
    "# x=9 \n",
    "y=7.8 # x ifadesini sildikten sonra hala ayni sonucu verdi. del x komuduyla x i silmis oluyor\n",
    "print(x)  #(ustun devami)ve hata veriyor\n",
    "del x    # ramde olup olmadigini kontrol ediyoruz \n",
    "print(x) # the \"del\" command deletes what is stored in the RAM."
   ]
  },
  {
   "cell_type": "code",
   "execution_count": null,
   "metadata": {},
   "outputs": [
    {
     "name": "stdout",
     "output_type": "stream",
     "text": [
      "<class 'int'>\n",
      "70\n",
      "<class 'str'>\n",
      "3535\n"
     ]
    }
   ],
   "source": [
    "age=35\n",
    "print(type(age))\n",
    "print(age+age)\n",
    "\n",
    "age=str(age)  #age i str ifadeye cevirdik # in this way, we can change the type of expressions.\n",
    "print(type(age))   \n",
    "\n",
    "print(age+age)\n",
    "\n"
   ]
  },
  {
   "cell_type": "code",
   "execution_count": null,
   "metadata": {},
   "outputs": [
    {
     "name": "stdout",
     "output_type": "stream",
     "text": [
      "<class 'int'>\n",
      "70\n",
      "<class 'float'>\n",
      "70.0\n"
     ]
    }
   ],
   "source": [
    "age=35\n",
    "print(type(age))\n",
    "print(age+age)\n",
    "\n",
    "age=float(age) #age i float a donusturduk yani ondalikli sayiya.# in this way, we can change the type of expressions.\n",
    "print(type(age))\n",
    "print(age+age)\n"
   ]
  },
  {
   "cell_type": "code",
   "execution_count": null,
   "metadata": {},
   "outputs": [
    {
     "name": "stdout",
     "output_type": "stream",
     "text": [
      "<class 'float'>\n",
      "71.8\n",
      "<class 'int'>\n",
      "70\n"
     ]
    }
   ],
   "source": [
    "age=35.9\n",
    "print(type(age))   \n",
    "print(age+age)\n",
    "\n",
    "age=int(age)   #int e yani tam sayiya ceviriyoruz. yani virgulden sonraki sayiyi tamamiyle atiyor\n",
    "print(type(age)) #when we convert a number of type float to an integer, the part after the decimal point is not taken\n",
    "print(age+age)"
   ]
  },
  {
   "cell_type": "code",
   "execution_count": 18,
   "metadata": {},
   "outputs": [
    {
     "name": "stdout",
     "output_type": "stream",
     "text": [
      "My date of brith is 1991\n"
     ]
    }
   ],
   "source": [
    "years=2025\n",
    "age=\"34.3\"     #noktali str sayiyi direk int e cevirmiyor. ilk float sonra int ceviriyor \n",
    "age=float(age)    #tam sayi olsaydi direk int e cevirebiliriz. \n",
    "dateofbrith= years-int(age) # we can first convert a string expression of type float to a float, and then to an integer\n",
    "print(\"My date of brith is\",dateofbrith)"
   ]
  },
  {
   "cell_type": "code",
   "execution_count": null,
   "metadata": {},
   "outputs": [
    {
     "name": "stdout",
     "output_type": "stream",
     "text": [
      "<class 'int'>\n",
      "5\n"
     ]
    }
   ],
   "source": [
    "# aritmatik operatorler # arithmetic operators\n",
    "# Order of operations: parentheses, exponents, division and multiplication, addition and subtraction.\n",
    "#islem onceligi parantez ici, uslu sayilar, bolme carpma, toplama cikarma\n",
    "a=int(35/7)   #bolme islemlerinin hepsinin float olarak cikarir.(5.0 olarak yazar). #All results of division are returned as floats, such as 5.0.\n",
    "print(type(a))   # int e cevirmeliyiz.#So, if we want the result as an integer, we need to cast it to an integer type.\"  \n",
    "print(a)"
   ]
  },
  {
   "cell_type": "code",
   "execution_count": null,
   "metadata": {},
   "outputs": [
    {
     "name": "stdout",
     "output_type": "stream",
     "text": [
      "<class 'int'>\n",
      "3\n"
     ]
    }
   ],
   "source": [
    "a=40//11  #// iki bolme islemi sonucu int e cevirir. sonuc a=3 olark cikar. 40 in icinde kac tane 11 var a bakiyoruz \n",
    "print(type(a)) #// performs integer division. The result is assigned to a = 3, since 11 fits into 40 exactly 3 times.\"\n",
    "print(a)"
   ]
  },
  {
   "cell_type": "code",
   "execution_count": null,
   "metadata": {},
   "outputs": [
    {
     "name": "stdout",
     "output_type": "stream",
     "text": [
      "7\n",
      "<class 'int'>\n"
     ]
    }
   ],
   "source": [
    "a=40%11 # bolumunden kalani gosterir sonuc 7. tipi de int dir \n",
    "print(a) #% \"is the modulo operator. It returns the remainder of the division. In this case, the result is 7, and it's an integer.\"\n",
    "print(type(a))"
   ]
  },
  {
   "cell_type": "code",
   "execution_count": null,
   "metadata": {},
   "outputs": [
    {
     "name": "stdout",
     "output_type": "stream",
     "text": [
      "25\n",
      "125\n",
      "5.0\n"
     ]
    },
    {
     "data": {
      "text/plain": [
       "5.0"
      ]
     },
     "execution_count": 35,
     "metadata": {},
     "output_type": "execute_result"
    }
   ],
   "source": [
    "print(5**2)  # karesini almak icin # To square a number\n",
    "print(5**3) # kupunu almak icin # To cube a number\n",
    "pow(5,3)   # buda ayni islemi . pyhton in kutuphanesindeki ifade #This performs the same operation, but using the expression from Python's library.\n",
    "\n",
    "print((25**(1/2)))  #float olarak yazdirdi.# The result is a float.\n",
    "\n",
    "pow(125,1/3) #float olarak yazdirdi # The result is a float.\n"
   ]
  },
  {
   "cell_type": "code",
   "execution_count": 5,
   "metadata": {},
   "outputs": [
    {
     "data": {
      "text/plain": [
       "729"
      ]
     },
     "execution_count": 5,
     "metadata": {},
     "output_type": "execute_result"
    }
   ],
   "source": [
    "pow(3,6)"
   ]
  },
  {
   "cell_type": "code",
   "execution_count": null,
   "metadata": {},
   "outputs": [
    {
     "name": "stdout",
     "output_type": "stream",
     "text": [
      "254\n"
     ]
    }
   ],
   "source": [
    "r=9 # The area of a circle with a radius of 9 cm\n",
    "area=(3.14)*(r**2)  # yaricapi 9cm olan dairenin alani\n",
    "print(int(area)) \n"
   ]
  },
  {
   "cell_type": "code",
   "execution_count": 19,
   "metadata": {},
   "outputs": [
    {
     "name": "stdout",
     "output_type": "stream",
     "text": [
      "0.0025\n"
     ]
    }
   ],
   "source": [
    "baselength=a=5  #ucgenin alanini bul cm den m ye cevir #Find the area of the triangle.\n",
    "height=b=10\n",
    "area=((a*b)/2)/10000 \n",
    "print(area)"
   ]
  },
  {
   "cell_type": "code",
   "execution_count": 20,
   "metadata": {},
   "outputs": [
    {
     "name": "stdout",
     "output_type": "stream",
     "text": [
      "Area of the rectangle is 40 cm**2\n"
     ]
    }
   ],
   "source": [
    "a=8  #kenar uzunluklari a ve b olan dikdortgenin alanini hesapla\n",
    "b=5   # Calculate the area of a rectangle with side lengths a and b.\n",
    "area=a*b\n",
    "print(\"Area of the rectangle is\",area,\"cm**2\")"
   ]
  },
  {
   "cell_type": "code",
   "execution_count": 21,
   "metadata": {},
   "outputs": [
    {
     "name": "stdout",
     "output_type": "stream",
     "text": [
      "2 5\n"
     ]
    }
   ],
   "source": [
    "number=52\n",
    "a=number%10\n",
    "b=number//10\n",
    "print(a,b)\n"
   ]
  },
  {
   "cell_type": "code",
   "execution_count": 23,
   "metadata": {},
   "outputs": [
    {
     "name": "stdout",
     "output_type": "stream",
     "text": [
      "With a total of 96 ,I can buy 6 kilos of meat and I will have 12  CHF left.\n"
     ]
    }
   ],
   "source": [
    "money=96\n",
    "kg=money//14\n",
    "remaining=money%14\n",
    "print(\"With a total of\",money,\",I can buy\",kg,\"kilos of meat\",\"and I will have\",remaining,\" CHF left.\")"
   ]
  },
  {
   "cell_type": "code",
   "execution_count": 26,
   "metadata": {},
   "outputs": [
    {
     "name": "stdout",
     "output_type": "stream",
     "text": [
      "c`nin degeri =  5\n"
     ]
    }
   ],
   "source": [
    "a=3\n",
    "b=4\n",
    "c=((3**2)+(4**2))**(1/2) #sonuc float cikar. \n",
    "print(\"c`nin degeri = \",int(c))"
   ]
  },
  {
   "cell_type": "code",
   "execution_count": 31,
   "metadata": {},
   "outputs": [
    {
     "name": "stdout",
     "output_type": "stream",
     "text": [
      "Area = 200.96 cm**2 ,perimeter= 50.24 cm\n"
     ]
    }
   ],
   "source": [
    "r=8\n",
    "pi=3.14\n",
    "area=(r**2)*pi\n",
    "perimeter=2*pi*r\n",
    "print(\"Area =\", area,\"cm**2\",\",perimeter=\",perimeter,\"cm\")"
   ]
  },
  {
   "cell_type": "code",
   "execution_count": null,
   "metadata": {},
   "outputs": [],
   "source": []
  }
 ],
 "metadata": {
  "kernelspec": {
   "display_name": "Python 3",
   "language": "python",
   "name": "python3"
  },
  "language_info": {
   "codemirror_mode": {
    "name": "ipython",
    "version": 3
   },
   "file_extension": ".py",
   "mimetype": "text/x-python",
   "name": "python",
   "nbconvert_exporter": "python",
   "pygments_lexer": "ipython3",
   "version": "3.13.1"
  }
 },
 "nbformat": 4,
 "nbformat_minor": 2
}
