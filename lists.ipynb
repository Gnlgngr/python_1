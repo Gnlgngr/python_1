{
 "cells": [
  {
   "cell_type": "code",
   "execution_count": null,
   "metadata": {},
   "outputs": [
    {
     "data": {
      "text/plain": [
       "4"
      ]
     },
     "execution_count": 1,
     "metadata": {},
     "output_type": "execute_result"
    }
   ],
   "source": [
    "# mutable => degistirilebilir. It is changeable.\n",
    "# itinerable => elemanlarina ulasilabilir.Its elements are accessible.\n",
    "list_01=[1, 3.14, \"Gonul\", True] # listeler koseli parantezlerle olusturulur.Lists are created using square brackets\n",
    "len(list_01)  # len listede kac tane eleman oldugunu yazar. The len function returns the number of elements in the list"
   ]
  },
  {
   "cell_type": "code",
   "execution_count": null,
   "metadata": {},
   "outputs": [
    {
     "name": "stdout",
     "output_type": "stream",
     "text": [
      "[1, 3.14, 'Gonul', True]\n"
     ]
    },
    {
     "data": {
      "text/plain": [
       "['G', 'o', 'n', 'u', 'l']"
      ]
     },
     "execution_count": 19,
     "metadata": {},
     "output_type": "execute_result"
    }
   ],
   "source": [
    "list_01=[1, 3.14, \"Gonul\", True]\n",
    "print(list_01)\n",
    "list_02=list(\"Gonul\") # str ifadenin karakterlerini tek tek alarak listeye donusturur.Converts a string's characters into a list by taking each character individually.\n",
    "list_02"
   ]
  },
  {
   "cell_type": "code",
   "execution_count": null,
   "metadata": {},
   "outputs": [
    {
     "ename": "TypeError",
     "evalue": "'int' object is not iterable",
     "output_type": "error",
     "traceback": [
      "\u001b[1;31m---------------------------------------------------------------------------\u001b[0m",
      "\u001b[1;31mTypeError\u001b[0m                                 Traceback (most recent call last)",
      "Cell \u001b[1;32mIn[11], line 3\u001b[0m\n\u001b[0;32m      1\u001b[0m list_01\u001b[38;5;241m=\u001b[39m[ ]\n\u001b[0;32m      2\u001b[0m list_01\n\u001b[1;32m----> 3\u001b[0m list_02\u001b[38;5;241m=\u001b[39m\u001b[38;5;28;43mlist\u001b[39;49m\u001b[43m(\u001b[49m\u001b[38;5;241;43m1234\u001b[39;49m\u001b[43m)\u001b[49m \u001b[38;5;66;03m# int olarak olusturulamiyor\u001b[39;00m\n\u001b[0;32m      4\u001b[0m list_02 \n",
      "\u001b[1;31mTypeError\u001b[0m: 'int' object is not iterable"
     ]
    }
   ],
   "source": [
    "list_01=[ ]\n",
    "list_01\n",
    "list_02=list(1234) #liste  int olarak olusturulamiyor. A list cannot be created as an int\n",
    "list_02 "
   ]
  },
  {
   "cell_type": "code",
   "execution_count": null,
   "metadata": {},
   "outputs": [
    {
     "data": {
      "text/plain": [
       "'Gonul'"
      ]
     },
     "execution_count": 13,
     "metadata": {},
     "output_type": "execute_result"
    }
   ],
   "source": [
    "list_01=[\"Gonul\",3,\"Faruk\",5] \n",
    "list_01[0] #hangi indekte hangi eleman  var ona bakiyoruz.We are checking which element is at which index."
   ]
  },
  {
   "cell_type": "code",
   "execution_count": 20,
   "metadata": {},
   "outputs": [
    {
     "name": "stdout",
     "output_type": "stream",
     "text": [
      "<class 'list'>\n"
     ]
    }
   ],
   "source": [
    "list_01=[\"Gonul\",3,[\"Faruk\",5,\"fatma\",14],\"haluk\",3] # liste icine liste yazabiliyoruz.We can place a list inside another list\n",
    "list_01[2] \n",
    "print(type(list_01[2]))"
   ]
  },
  {
   "cell_type": "code",
   "execution_count": 15,
   "metadata": {},
   "outputs": [
    {
     "data": {
      "text/plain": [
       "['Gonul', 3, ['Faruk', 5, 'fatma', 14]]"
      ]
     },
     "execution_count": 15,
     "metadata": {},
     "output_type": "execute_result"
    }
   ],
   "source": [
    "list_01=[\"Gonul\",3,[\"Faruk\",5,\"fatma\",14],\"haluk\",3]\n",
    "list_01[0:3]"
   ]
  },
  {
   "cell_type": "code",
   "execution_count": null,
   "metadata": {},
   "outputs": [
    {
     "data": {
      "text/plain": [
       "'faruk'"
      ]
     },
     "execution_count": 20,
     "metadata": {},
     "output_type": "execute_result"
    }
   ],
   "source": [
    "list_01=[\"Gonul\",3,[\"Faruk\",5,\"fatma\",14],\"haluk\",3]\n",
    "list_01[2][0].lower() # karakteri kucuk harfle baslatir.Makes the first character lowercase"
   ]
  },
  {
   "cell_type": "code",
   "execution_count": null,
   "metadata": {},
   "outputs": [
    {
     "data": {
      "text/plain": [
       "'5'"
      ]
     },
     "execution_count": 35,
     "metadata": {},
     "output_type": "execute_result"
    }
   ],
   "source": [
    "list_01=[\"Gonul\",3,[\"Faruk\",5,\"fatma\",14],\"haluk\",3]\n",
    "str(list_01[2][1]) # liste ici elemani str cevirdik.We converted the element inside the list to a string."
   ]
  },
  {
   "cell_type": "code",
   "execution_count": null,
   "metadata": {},
   "outputs": [
    {
     "data": {
      "text/plain": [
       "'.'"
      ]
     },
     "execution_count": 29,
     "metadata": {},
     "output_type": "execute_result"
    }
   ],
   "source": [
    "list_01=[\"Gonul\",3,[\"Faruk\",5.4,\"fatma\",14],\"haluk\",3]\n",
    "\n",
    "str(list_01[2][1])[1]"
   ]
  },
  {
   "cell_type": "code",
   "execution_count": null,
   "metadata": {},
   "outputs": [
    {
     "data": {
      "text/plain": [
       "['hayat', 3, ['Faruk', 5, 'fatma', 14], 'haluk', 3]"
      ]
     },
     "execution_count": 30,
     "metadata": {},
     "output_type": "execute_result"
    }
   ],
   "source": [
    "list_01=[\"Gonul\",3,[\"Faruk\",5,\"fatma\",14],\"haluk\",3]\n",
    "list_01[0]=\"hayat\" # liste elemanlarinda degisiklik yapabilyoruz.We can modify the elements of a list.\n",
    "list_01"
   ]
  },
  {
   "cell_type": "code",
   "execution_count": 36,
   "metadata": {},
   "outputs": [
    {
     "data": {
      "text/plain": [
       "['Gonul', 3, ['Faruk', 85, 'fatma', 14], 'haluk', 3]"
      ]
     },
     "execution_count": 36,
     "metadata": {},
     "output_type": "execute_result"
    }
   ],
   "source": [
    "list_01=[\"Gonul\",3,[\"Faruk\",8.5,\"fatma\",14],\"haluk\",3]\n",
    "list_01[2][1]=85\n",
    "list_01"
   ]
  },
  {
   "cell_type": "code",
   "execution_count": null,
   "metadata": {},
   "outputs": [
    {
     "data": {
      "text/plain": [
       "[1, 2, 3, 4, 5, 6, ['str', 7, 8]]"
      ]
     },
     "execution_count": 45,
     "metadata": {},
     "output_type": "execute_result"
    }
   ],
   "source": [
    "list_01=[1,2,3,4,5]\n",
    "list_01.append(6) # eleman eklemek icin. To add an element\n",
    "list_01.append([\"str\",7,8])\n",
    "list_01"
   ]
  },
  {
   "cell_type": "code",
   "execution_count": null,
   "metadata": {},
   "outputs": [
    {
     "data": {
      "text/plain": [
       "[1, 7, 2, 3, 4, 5]"
      ]
     },
     "execution_count": 47,
     "metadata": {},
     "output_type": "execute_result"
    }
   ],
   "source": [
    "list_01=[1,2,3,4,5]\n",
    "list_01.insert(1,7) #birinci karakterden itibaren yeni elemani ekleyip listeyi devam ettirdi.It added the new element starting from the first index and continued the list\n",
    "list_01 "
   ]
  },
  {
   "cell_type": "code",
   "execution_count": 49,
   "metadata": {},
   "outputs": [
    {
     "data": {
      "text/plain": [
       "[1, 2, 3, 7, [4, 5], 9, 8]"
      ]
     },
     "execution_count": 49,
     "metadata": {},
     "output_type": "execute_result"
    }
   ],
   "source": [
    "list_01=[1,2,3,[4,5],9,8]\n",
    "list_01.insert(3,7) #birinci karakter yerine ikincidekini ekleyip devam etti\n",
    "list_01"
   ]
  },
  {
   "cell_type": "code",
   "execution_count": null,
   "metadata": {},
   "outputs": [
    {
     "data": {
      "text/plain": [
       "[1, 2, 3, [4, 5, 7], 9, 8]"
      ]
     },
     "execution_count": 51,
     "metadata": {},
     "output_type": "execute_result"
    }
   ],
   "source": [
    "list_01=[1,2,3,[4,5],9,8]\n",
    "list_01[3].insert(3,7) #icindeki listeye ulasip ekleme yapiyoruz.We access the inner list and add an element to it.\n",
    "list_01"
   ]
  },
  {
   "cell_type": "code",
   "execution_count": null,
   "metadata": {},
   "outputs": [
    {
     "data": {
      "text/plain": [
       "[1, 2, 3, [4, 5], 9, 7, 8]"
      ]
     },
     "execution_count": 52,
     "metadata": {},
     "output_type": "execute_result"
    }
   ],
   "source": [
    "list_01=[1,2,3,[4,5],9,8]\n",
    "list_01.insert(-1,7) # ayni islemi tersten deneyerek\n",
    "list_01"
   ]
  },
  {
   "cell_type": "code",
   "execution_count": 8,
   "metadata": {},
   "outputs": [
    {
     "name": "stdout",
     "output_type": "stream",
     "text": [
      "[1, 2]\n",
      "[1]\n"
     ]
    }
   ],
   "source": [
    "list1=[1,2,3]\n",
    "list1.pop()\n",
    "print(list1)\n",
    "list1.pop()\n",
    "print(list1)"
   ]
  },
  {
   "cell_type": "code",
   "execution_count": null,
   "metadata": {},
   "outputs": [
    {
     "data": {
      "text/plain": [
       "4"
      ]
     },
     "execution_count": 9,
     "metadata": {},
     "output_type": "execute_result"
    }
   ],
   "source": [
    "list1=[1,2,3,4,5,5,5,5,6]\n",
    "list1.count(5) # 5 elemaninin liste icinde kac tane old yazar.It prints how many times the element 5 appears in the list."
   ]
  },
  {
   "cell_type": "code",
   "execution_count": null,
   "metadata": {},
   "outputs": [
    {
     "name": "stdout",
     "output_type": "stream",
     "text": [
      "[]\n"
     ]
    }
   ],
   "source": [
    "list1=[1,2,3,4,5,6,7]\n",
    "list1.clear()  # listeyi temizler. Clears the list\n",
    "print(list1) "
   ]
  },
  {
   "cell_type": "code",
   "execution_count": 11,
   "metadata": {},
   "outputs": [
    {
     "name": "stdout",
     "output_type": "stream",
     "text": [
      "[1, 2, 3, 4, 6, 7]\n"
     ]
    }
   ],
   "source": [
    "list1=[1,2,3,4,5,6,7]\n",
    "del list1[4]\n",
    "print(list1)"
   ]
  },
  {
   "cell_type": "code",
   "execution_count": null,
   "metadata": {},
   "outputs": [
    {
     "name": "stdout",
     "output_type": "stream",
     "text": [
      "[1, 2, 3, 4, 5, 5, 6, 6, 7, 7, 9, 9]\n"
     ]
    }
   ],
   "source": [
    "list1=[5,6,7,9,9,1,2,3,4,5,6,7]\n",
    "list1.sort() # liste elemanlarini duzenler.Organizes the list elements.\n",
    "print(list1)\n"
   ]
  },
  {
   "cell_type": "code",
   "execution_count": null,
   "metadata": {},
   "outputs": [
    {
     "name": "stdout",
     "output_type": "stream",
     "text": [
      "[9, 9, 7, 7, 6, 6, 5, 5, 4, 3, 2, 1]\n"
     ]
    }
   ],
   "source": [
    "list1=[5,6,7,9,9,1,2,3,4,5,6,7]\n",
    "list1.sort(reverse=True) # duzenleyip tersten siralar.Sorts and then reverses the order\n",
    "print(list1)"
   ]
  },
  {
   "cell_type": "code",
   "execution_count": null,
   "metadata": {},
   "outputs": [
    {
     "name": "stdout",
     "output_type": "stream",
     "text": [
      "[False, 1, True, 2, 3, 4, 5, 5, 6, 6, 7, 7, 9, 9]\n"
     ]
    }
   ],
   "source": [
    "list1=[5,6,7,9,9,1,2,3,4,5,6,7,True,False]\n",
    "list1.sort() # true ve false 0 ve 1 degerlerini alarak siralar. Sorts by taking True and False as 0 and 1 values.\n",
    "print(list1)"
   ]
  },
  {
   "cell_type": "code",
   "execution_count": null,
   "metadata": {},
   "outputs": [
    {
     "name": "stdout",
     "output_type": "stream",
     "text": [
      "['Fatma', 'ebru', 'faruk', 'gonul']\n",
      "['gonul', 'faruk', 'ebru', 'Fatma']\n"
     ]
    }
   ],
   "source": [
    "list1=[\"Fatma\",\"ebru\",\"gonul\",\"faruk\"]\n",
    "list1.sort() # str ifadeleri ascii nolarina gore siralar.Sorts string expressions based on their ASCII values.\n",
    "print(list1)\n",
    "list1.sort(reverse=True)\n",
    "print(list1)"
   ]
  },
  {
   "cell_type": "code",
   "execution_count": null,
   "metadata": {},
   "outputs": [],
   "source": []
  }
 ],
 "metadata": {
  "kernelspec": {
   "display_name": "Python 3",
   "language": "python",
   "name": "python3"
  },
  "language_info": {
   "codemirror_mode": {
    "name": "ipython",
    "version": 3
   },
   "file_extension": ".py",
   "mimetype": "text/x-python",
   "name": "python",
   "nbconvert_exporter": "python",
   "pygments_lexer": "ipython3",
   "version": "3.13.3"
  }
 },
 "nbformat": 4,
 "nbformat_minor": 2
}
