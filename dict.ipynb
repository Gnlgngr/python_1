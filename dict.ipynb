{
 "cells": [
  {
   "cell_type": "code",
   "execution_count": null,
   "id": "69c3dd3a",
   "metadata": {},
   "outputs": [],
   "source": [
    "# dictionary => sözlük\n",
    "#  dictionary mutable yani degistirebilir ve iterable yani elemanlarina ulasilabilir\n",
    "# A dictionary is mutable, meaning it can be changed, and iterable, meaning its elements can be accessed.\n",
    "# []=>liste  ()=>tuple   {}=>dict seklinde ifade edilir\n",
    "# [] represents a list, () represents a tuple, and {} represents a dictionary."
   ]
  },
  {
   "cell_type": "code",
   "execution_count": null,
   "id": "a0201dfb",
   "metadata": {},
   "outputs": [
    {
     "name": "stdout",
     "output_type": "stream",
     "text": [
      "<class 'dict'>\n",
      "{'key1': 'ali', 'key2': 'veli'}\n"
     ]
    }
   ],
   "source": [
    "dict1={\"key1\":\"ali\",\"key2\":\"veli\"}  # \"key1\":\"ali\" => herbir degere item denilir.\"key1\": \"ali\" — This is called an item\n",
    "print(type(dict1))\n",
    "print(dict1)"
   ]
  },
  {
   "cell_type": "code",
   "execution_count": null,
   "id": "5c7aef0d",
   "metadata": {},
   "outputs": [
    {
     "name": "stdout",
     "output_type": "stream",
     "text": [
      "dict_items([('key1', 'ali'), ('key2', 'veli')])\n",
      "dict_keys(['key1', 'key2'])\n",
      "dict_values(['ali', 'veli'])\n"
     ]
    }
   ],
   "source": [
    "dict1={\"key1\":\"ali\",\"key2\":\"veli\"}\n",
    "print(dict1.items()) # keys and  values\n",
    "print(dict1.keys())  # key1, key2\n",
    "print(dict1.values()) # values => \"ali\", \"veli\""
   ]
  },
  {
   "cell_type": "code",
   "execution_count": null,
   "id": "4087f4af",
   "metadata": {},
   "outputs": [
    {
     "name": "stdout",
     "output_type": "stream",
     "text": [
      "3\n"
     ]
    }
   ],
   "source": [
    "dict1={\"name\":\"ali\",\"age\":\"veli\", \"key3\":\"data analyst\"}\n",
    "print(len(dict1))  # kac tane item oldugunu yazar. It shows how many items there are\n"
   ]
  },
  {
   "cell_type": "code",
   "execution_count": null,
   "id": "dd5eb9a9",
   "metadata": {},
   "outputs": [
    {
     "name": "stdout",
     "output_type": "stream",
     "text": [
      "ali\n",
      "veli\n"
     ]
    }
   ],
   "source": [
    "dict1={\"name\":\"ali\",\"age\":\"veli\", \"key3\":\"data analyst\"}\n",
    "print(dict1[\"name\"])  # keys ler ile degerleri gorebiliyoruz. We can see the keys and values.\n",
    "print(dict1[\"age\"]) "
   ]
  },
  {
   "cell_type": "code",
   "execution_count": null,
   "id": "d2176542",
   "metadata": {},
   "outputs": [
    {
     "name": "stdout",
     "output_type": "stream",
     "text": [
      "{'name': 'ali', 'age': 'veli', 'job': 'data scientist'}\n"
     ]
    }
   ],
   "source": [
    "dict1={\"name\":\"ali\",\"age\":\"veli\", \"job\":\"data analyst\",\"job\":\"data scientist\"}\n",
    "print(dict1)  # ayni keylerde sondaki atanan degere bakiyor.For the same keys, it looks at the last assigned value."
   ]
  },
  {
   "cell_type": "code",
   "execution_count": null,
   "id": "4ba57c49",
   "metadata": {},
   "outputs": [
    {
     "name": "stdout",
     "output_type": "stream",
     "text": [
      "data analyst\n"
     ]
    }
   ],
   "source": [
    "dict1={\"name\":\"ali\",\"age\":\"veli\", \"job\":\"data analyst\"}\n",
    "a=input(\"lutfen isminizi giriniz:\") # hangi key i yazarsak onun values ini yazdiriyor. It prints the value of the key that we write\n",
    "print(dict1[a])"
   ]
  },
  {
   "cell_type": "code",
   "execution_count": null,
   "id": "bea0dc90",
   "metadata": {},
   "outputs": [
    {
     "name": "stdout",
     "output_type": "stream",
     "text": [
      "data analyst\n"
     ]
    }
   ],
   "source": [
    "dict1={1:\"ali\",2:\"veli\", 3:\"data analyst\"} # girilen deger eger int ise inputu int e cevirmeliyiz\n",
    "a=int(input(\"lutfen isminizi giriniz:\"))  # If the entered value is an int, we should convert the input to an int.\n",
    "print(dict1[a])"
   ]
  },
  {
   "cell_type": "code",
   "execution_count": null,
   "id": "a85fa43b",
   "metadata": {},
   "outputs": [
    {
     "name": "stdout",
     "output_type": "stream",
     "text": [
      "pi\n"
     ]
    }
   ],
   "source": [
    "dict1={3.14:\"pi\",2:\"veli\", 3:\"data analyst\"}  # key float old icin inputu floata ceviriyoruz\n",
    "a=float(input(\"lutfen isminizi giriniz:\")) # If the entered value is a float, we need to convert the input to a float.\n",
    "print(dict1[a])"
   ]
  },
  {
   "cell_type": "code",
   "execution_count": 36,
   "id": "d26dead8",
   "metadata": {},
   "outputs": [
    {
     "name": "stdout",
     "output_type": "stream",
     "text": [
      "veli\n"
     ]
    }
   ],
   "source": [
    "dict1={3.14:5,2:\"veli\", \"job\":\"data analyst\"}\n",
    "a=float(input(\"lutfen isminizi giriniz:\"))\n",
    "print(dict1[a])"
   ]
  },
  {
   "cell_type": "code",
   "execution_count": null,
   "id": "6c00b621",
   "metadata": {},
   "outputs": [
    {
     "name": "stdout",
     "output_type": "stream",
     "text": [
      "{'name': 'veli', 'age': '20', 'job': 'data analyst'}\n"
     ]
    }
   ],
   "source": [
    "dict1={\"name\":\"ali\",\"age\":\"20\", \"job\":\"data analyst\"}\n",
    "dict1.update({\"name\":\"veli\"})    # name i farkli bir values e atiyoruz. We assign a different value to the name.\n",
    "print(dict1)\n"
   ]
  },
  {
   "cell_type": "code",
   "execution_count": null,
   "id": "0a96d00b",
   "metadata": {},
   "outputs": [
    {
     "name": "stdout",
     "output_type": "stream",
     "text": [
      "{'age': '20', 'job': 'data analyst'}\n"
     ]
    }
   ],
   "source": [
    "dict1={\"name\":\"ali\",\"age\":\"20\", \"job\":\"data analyst\"}\n",
    "dict1.pop(\"name\")    # silmek icin kullaniliyor. It is used to delete.\n",
    "print(dict1)"
   ]
  },
  {
   "cell_type": "code",
   "execution_count": null,
   "id": "2a266576",
   "metadata": {},
   "outputs": [
    {
     "name": "stdout",
     "output_type": "stream",
     "text": [
      "{}\n"
     ]
    }
   ],
   "source": [
    "dict1={\"name\":\"ali\",\"age\":\"20\", \"job\":\"data analyst\"} #dict icini siliyor. ram de kaliyor. tamamen  silseydi hata verirdi\n",
    "dict1.clear() # It clears the contents of the dictionary, but it stays in RAM. If it were completely deleted, it would raise an erro\n",
    "print(dict1)"
   ]
  },
  {
   "cell_type": "code",
   "execution_count": null,
   "id": "70cf7844",
   "metadata": {},
   "outputs": [],
   "source": []
  }
 ],
 "metadata": {
  "kernelspec": {
   "display_name": "Python 3",
   "language": "python",
   "name": "python3"
  },
  "language_info": {
   "codemirror_mode": {
    "name": "ipython",
    "version": 3
   },
   "file_extension": ".py",
   "mimetype": "text/x-python",
   "name": "python",
   "nbconvert_exporter": "python",
   "pygments_lexer": "ipython3",
   "version": "3.13.3"
  }
 },
 "nbformat": 4,
 "nbformat_minor": 5
}
