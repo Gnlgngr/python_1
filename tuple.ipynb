{
 "cells": [
  {
   "cell_type": "code",
   "execution_count": null,
   "metadata": {},
   "outputs": [],
   "source": [
    "# tuple\n",
    "# immutable => degistirilemez. It is immutable\n",
    "#  tuple icine list ekleyebiliriz. We can add a list inside a tuple"
   ]
  },
  {
   "cell_type": "code",
   "execution_count": null,
   "metadata": {},
   "outputs": [
    {
     "name": "stdout",
     "output_type": "stream",
     "text": [
      "<class 'list'>\n",
      "<class 'tuple'>\n",
      "(1, 2, 3)\n"
     ]
    }
   ],
   "source": [
    "a=[\"fatma\",\"ebru\",\"gonul\"]\n",
    "b=(1,2,3) # tuple () seklinde olusturuluyor. A tuple is created using parentheses ().\n",
    "\n",
    "print(type(a))\n",
    "\n",
    "print(type(b))\n",
    "\n",
    "print(b)\n"
   ]
  },
  {
   "cell_type": "code",
   "execution_count": null,
   "metadata": {},
   "outputs": [
    {
     "name": "stdout",
     "output_type": "stream",
     "text": [
      "('g', 't', 'i', 'f', 'k', 'd', 's', 'm', 'l', 's', 'd', ' ', 'k', 'l', 's', 'd', 'o', 'v', 'k')\n"
     ]
    }
   ],
   "source": [
    "a=tuple(\"gtifkdsmlsd klsdovk\")\n",
    "\n",
    "print(a)"
   ]
  },
  {
   "cell_type": "code",
   "execution_count": null,
   "metadata": {},
   "outputs": [
    {
     "name": "stdout",
     "output_type": "stream",
     "text": [
      "(1, 2, 3, ['a', 'b', 'c'], 5, 7)\n",
      "<class 'tuple'>\n"
     ]
    }
   ],
   "source": [
    "a=(1,2,3,[\"a\",\"b\",\"c\"],5,7) # tuple in icine list ekleyebiliyoruz. We can add a list into a tuple\n",
    "print(a)\n",
    "print(type(a))"
   ]
  },
  {
   "cell_type": "code",
   "execution_count": 13,
   "metadata": {},
   "outputs": [
    {
     "name": "stdout",
     "output_type": "stream",
     "text": [
      "[1, 2, 3, (5, 6), 7]\n",
      "<class 'list'>\n",
      "<class 'tuple'>\n"
     ]
    }
   ],
   "source": [
    "a=[1,2,3,(5,6),7]\n",
    "print(a)\n",
    "print(type(a))\n",
    "print(type(a[3]))"
   ]
  },
  {
   "cell_type": "code",
   "execution_count": null,
   "metadata": {},
   "outputs": [
    {
     "name": "stdout",
     "output_type": "stream",
     "text": [
      "<class 'str'>\n",
      "<class 'tuple'>\n",
      "Initiative Genève\n",
      "('I', 'n', 'i', 't', 'i', 'a', 't', 'i', 'v', 'e', ' ', 'G', 'e', 'n', 'è', 'v', 'e')\n"
     ]
    }
   ],
   "source": [
    "a=\"Initiative Genève\"\n",
    "print(type(a))\n",
    "b=tuple(a) \n",
    "print(type(b))\n",
    "print(a)\n",
    "print(b)"
   ]
  },
  {
   "cell_type": "code",
   "execution_count": null,
   "metadata": {},
   "outputs": [
    {
     "name": "stdout",
     "output_type": "stream",
     "text": [
      "('deneme',)\n",
      "<class 'tuple'>\n"
     ]
    }
   ],
   "source": [
    "a=(\"deneme\",) # bu ifadede virgul onemli, virgul olmazsa str ifade olarak algiliyor.In this expression, the comma is important; without the comma, it is interpreted as a string.\n",
    "print(a)\n",
    "print(type(a))"
   ]
  },
  {
   "cell_type": "code",
   "execution_count": null,
   "metadata": {},
   "outputs": [
    {
     "name": "stdout",
     "output_type": "stream",
     "text": [
      "[1, 2, 3, 4, 5, 'a']\n",
      "[1, 2, 3, 1, 2, 3, 1, 2, 3]\n"
     ]
    }
   ],
   "source": [
    "a=[1,2,3] \n",
    "b=[4,5,\"a\"]\n",
    "print(a+b) \n",
    "print(a*3)"
   ]
  },
  {
   "cell_type": "code",
   "execution_count": null,
   "metadata": {},
   "outputs": [
    {
     "name": "stdout",
     "output_type": "stream",
     "text": [
      "(1, 2, 3, 4, 5, 'a')\n",
      "(1, 2, 3, 1, 2, 3, 1, 2, 3)\n"
     ]
    }
   ],
   "source": [
    "a=(1,2,3)\n",
    "b=(4,5,\"a\") #In tuples, just like in lists, we can concatenate expressions and also perform multiplication as shown below\n",
    "print(a+b) # tupleda da ayni list gibi ifadeleri toplayip asagidaki gibi carpma da yapabiliyoruz\n",
    "print(a*3)"
   ]
  },
  {
   "cell_type": "code",
   "execution_count": 27,
   "metadata": {},
   "outputs": [
    {
     "name": "stdout",
     "output_type": "stream",
     "text": [
      "[1, 2, 3, 'a']\n",
      "[1, 2, 3, 1, 2, 3, 1, 2, 3]\n"
     ]
    }
   ],
   "source": [
    "a=[1,2,3]\n",
    "b=[\"a\"]\n",
    "print(a+b)\n",
    "print(a*3)"
   ]
  },
  {
   "cell_type": "code",
   "execution_count": null,
   "metadata": {},
   "outputs": [
    {
     "name": "stdout",
     "output_type": "stream",
     "text": [
      "(1, 2, 3, 'a')\n",
      "(1, 2, 3, 1, 2, 3, 1, 2, 3)\n"
     ]
    }
   ],
   "source": [
    "a=(1,2,3)\n",
    "b=(\"a\",) #virgulu unutmuyoruz. We don't forget the comma\n",
    "print(a+b)\n",
    "print(a*3)"
   ]
  },
  {
   "cell_type": "code",
   "execution_count": null,
   "metadata": {},
   "outputs": [
    {
     "name": "stdout",
     "output_type": "stream",
     "text": [
      "3\n",
      "<class 'tuple'>\n"
     ]
    }
   ],
   "source": [
    "a=(1,2,3)\n",
    "print(len(a)) # len  elemanlari sayar. The len function counts the elements\n",
    "print(type(a))"
   ]
  },
  {
   "cell_type": "code",
   "execution_count": null,
   "metadata": {},
   "outputs": [
    {
     "name": "stdout",
     "output_type": "stream",
     "text": [
      "2\n",
      "3\n"
     ]
    }
   ],
   "source": [
    "a=(1,2,3) #iterable elemanlarina erisilebilir. The elements of an iterable can be accessed.\n",
    "print(a[1])\n",
    "print(a[-1])"
   ]
  },
  {
   "cell_type": "code",
   "execution_count": 38,
   "metadata": {},
   "outputs": [
    {
     "name": "stdout",
     "output_type": "stream",
     "text": [
      "veli\n",
      "(2, 3)\n",
      "(2,)\n"
     ]
    }
   ],
   "source": [
    "a=(1,2,3,[\"ali\",\"veli\",4.5,\"ayse\"],4)\n",
    "print(a[3][1])\n",
    "print(a[1:3])\n",
    "print(a[1:2])"
   ]
  },
  {
   "cell_type": "code",
   "execution_count": null,
   "metadata": {},
   "outputs": [
    {
     "name": "stdout",
     "output_type": "stream",
     "text": [
      "<class 'tuple'>\n"
     ]
    }
   ],
   "source": [
    "a=(1,) # int ifadelerde de virgul onemli. The comma is also important in int expressions\n",
    "print(type(a))"
   ]
  },
  {
   "cell_type": "code",
   "execution_count": null,
   "metadata": {},
   "outputs": [
    {
     "name": "stdout",
     "output_type": "stream",
     "text": [
      "(1, 2, 3, ['ali', 'veli', 4.5, 'ayse'], 4)\n"
     ]
    },
    {
     "ename": "TypeError",
     "evalue": "'tuple' object does not support item assignment",
     "output_type": "error",
     "traceback": [
      "\u001b[1;31m---------------------------------------------------------------------------\u001b[0m",
      "\u001b[1;31mTypeError\u001b[0m                                 Traceback (most recent call last)",
      "Cell \u001b[1;32mIn[39], line 3\u001b[0m\n\u001b[0;32m      1\u001b[0m a\u001b[38;5;241m=\u001b[39m(\u001b[38;5;241m1\u001b[39m,\u001b[38;5;241m2\u001b[39m,\u001b[38;5;241m3\u001b[39m,[\u001b[38;5;124m\"\u001b[39m\u001b[38;5;124mali\u001b[39m\u001b[38;5;124m\"\u001b[39m,\u001b[38;5;124m\"\u001b[39m\u001b[38;5;124mveli\u001b[39m\u001b[38;5;124m\"\u001b[39m,\u001b[38;5;241m4.5\u001b[39m,\u001b[38;5;124m\"\u001b[39m\u001b[38;5;124mayse\u001b[39m\u001b[38;5;124m\"\u001b[39m],\u001b[38;5;241m4\u001b[39m)\n\u001b[0;32m      2\u001b[0m \u001b[38;5;28mprint\u001b[39m(a)\n\u001b[1;32m----> 3\u001b[0m \u001b[43ma\u001b[49m\u001b[43m[\u001b[49m\u001b[38;5;241;43m1\u001b[39;49m\u001b[43m]\u001b[49m\u001b[38;5;241m=\u001b[39m\u001b[38;5;124m\"\u001b[39m\u001b[38;5;124mdegistir\u001b[39m\u001b[38;5;124m\"\u001b[39m\n\u001b[0;32m      4\u001b[0m \u001b[38;5;28mprint\u001b[39m(a)\n",
      "\u001b[1;31mTypeError\u001b[0m: 'tuple' object does not support item assignment"
     ]
    }
   ],
   "source": [
    "a=(1,2,3,[\"ali\",\"veli\",4.5,\"ayse\"],4)\n",
    "print(a)\n",
    "a[1]=\"degistir\" # tuple da degisiklik yapamiyoruz . We cannot make changes in a tuple\n",
    "print(a)"
   ]
  },
  {
   "cell_type": "code",
   "execution_count": null,
   "metadata": {},
   "outputs": [
    {
     "name": "stdout",
     "output_type": "stream",
     "text": [
      "[1, 2, 3, ['ali', 'veli', 4.5, 'ayse'], 4]\n",
      "<class 'list'>\n",
      "[1, 'gonul', 3, ['ali', 'veli', 4.5, 'ayse'], 4]\n",
      "(1, 'gonul', 3, ['ali', 'veli', 4.5, 'ayse'], 4)\n"
     ]
    }
   ],
   "source": [
    "a=(1,2,3,[\"ali\",\"veli\",4.5,\"ayse\"],4)\n",
    "b=list(a) #tuple i listeye cevirip degisiklik yaptik. We converted the tuple to a list and made changes.\n",
    "print(b)\n",
    "b[1]=\"gonul\"\n",
    "print(type(b))\n",
    "print(b)\n",
    "a=tuple(b) # tekrar tuple a cevirdik \n",
    "print(a)\n"
   ]
  },
  {
   "cell_type": "code",
   "execution_count": null,
   "metadata": {},
   "outputs": [
    {
     "name": "stdout",
     "output_type": "stream",
     "text": [
      "(1, 2, 3, ['degistir', 'veli', 4.5, 'ayse'], 4)\n"
     ]
    }
   ],
   "source": [
    "a=(1,2,3,[\"ali\",\"veli\",4.5,\"ayse\"],4) # tuple in icindeki listede degisiklik yapabiliriz. We can make changes to the list inside a tuple\n",
    "a[3][0]=\"degistir\"\n",
    "print(a)"
   ]
  },
  {
   "cell_type": "code",
   "execution_count": null,
   "metadata": {},
   "outputs": [
    {
     "data": {
      "text/plain": [
       "3"
      ]
     },
     "execution_count": 49,
     "metadata": {},
     "output_type": "execute_result"
    }
   ],
   "source": [
    "a=(1,2,2,2,3,[\"ali\",\"veli\",4.5,\"ayse\"],4)\n",
    "a.count(2) # () icine yazdigimiz degerin kac tane old gosterir. It shows how many times the value inside () appears"
   ]
  },
  {
   "cell_type": "code",
   "execution_count": null,
   "metadata": {},
   "outputs": [
    {
     "data": {
      "text/plain": [
       "3"
      ]
     },
     "execution_count": 52,
     "metadata": {},
     "output_type": "execute_result"
    }
   ],
   "source": [
    "a=(1,2,3,(\"ali\",\"veli\",4.5,4,4,4,\"ayse\"),4) # nested. tuple icinde tuple varsa nested deniliyor.If there is a tuple inside a tuple, it is called nested\n",
    "a[3].count(4)"
   ]
  },
  {
   "cell_type": "code",
   "execution_count": null,
   "metadata": {},
   "outputs": [
    {
     "data": {
      "text/plain": [
       "1"
      ]
     },
     "execution_count": 3,
     "metadata": {},
     "output_type": "execute_result"
    }
   ],
   "source": [
    "a=(1,2,3,(\"ali\",\"veli\",4.5,\"ayse\"),4)\n",
    "a.index(2) #ifadenin hangi indekste old gosterir. It shows at which index the expression is located.\n"
   ]
  },
  {
   "cell_type": "code",
   "execution_count": null,
   "metadata": {},
   "outputs": [
    {
     "name": "stdout",
     "output_type": "stream",
     "text": [
      "(10, 15, 20, 25)\n"
     ]
    }
   ],
   "source": [
    "# range belli bir sayi araligini alma. sifirdan yeni liste yada tuple olusturur\n",
    "# Range takes a specific range of numbers. It creates a new list or tuple starting from zero.\n",
    "a=tuple(range(10,26,5)) # kactan basladigi kaca kadar devam edecegi ve kacar kacar olacagi. It specifies the starting number, the stopping point, and the step size.\n",
    "print(a)\n",
    "\n",
    "\n"
   ]
  },
  {
   "cell_type": "code",
   "execution_count": 11,
   "metadata": {},
   "outputs": [
    {
     "name": "stdout",
     "output_type": "stream",
     "text": [
      "(20, 19, 18, 17, 16, 15, 14, 13, 12, 11, 10, 9, 8, 7, 6, 5, 4, 3)\n",
      "<class 'tuple'>\n"
     ]
    }
   ],
   "source": [
    "list1=tuple(range(20,2,-1))\n",
    "print(list1)\n",
    "print(type(list1))"
   ]
  },
  {
   "cell_type": "code",
   "execution_count": null,
   "metadata": {},
   "outputs": [
    {
     "name": "stdout",
     "output_type": "stream",
     "text": [
      "your note is A\n"
     ]
    }
   ],
   "source": [
    "result=input(\"please give the result of exam:\")\n",
    "if result.isdigit():   # farkli karakter var mi bakiyor.It checks if there are different characters\n",
    "    result=int(result)\n",
    "    if (result<50):\n",
    "        print(\"your note is D\")\n",
    "    elif(result<70):\n",
    "        print(\"your note is C\")\n",
    "    elif(result<85):\n",
    "        print(\"your note is B\")\n",
    "    elif(result<100):\n",
    "        print(\"your note is A\") \n",
    "    else:\n",
    "        print(\"you gave a number not between 0 and 100 \")       \n",
    "\n",
    "\n",
    "else:\n",
    "    print(\"please give a number,not a exam\")        \n"
   ]
  }
 ],
 "metadata": {
  "kernelspec": {
   "display_name": "Python 3",
   "language": "python",
   "name": "python3"
  },
  "language_info": {
   "codemirror_mode": {
    "name": "ipython",
    "version": 3
   },
   "file_extension": ".py",
   "mimetype": "text/x-python",
   "name": "python",
   "nbconvert_exporter": "python",
   "pygments_lexer": "ipython3",
   "version": "3.13.3"
  }
 },
 "nbformat": 4,
 "nbformat_minor": 2
}
