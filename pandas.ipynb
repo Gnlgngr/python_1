{
 "cells": [
  {
   "cell_type": "code",
   "execution_count": null,
   "id": "695fb161",
   "metadata": {},
   "outputs": [],
   "source": [
    "# pandas makine ogrenmesinde en onemli konu, verileri degistirme \n",
    "# \"Pandas is a powerful library in Python for data analysis and processing.\n",
    "#  It is especially useful when working with large datasets.\"\n"
   ]
  },
  {
   "cell_type": "code",
   "execution_count": 1,
   "id": "44966e54",
   "metadata": {},
   "outputs": [
    {
     "name": "stdout",
     "output_type": "stream",
     "text": [
      "Collecting pandasNote: you may need to restart the kernel to use updated packages.\n",
      "\n",
      "  Downloading pandas-2.2.3-cp313-cp313-win_amd64.whl.metadata (19 kB)\n",
      "Requirement already satisfied: numpy>=1.26.0 in c:\\users\\pc\\appdata\\local\\programs\\python\\python313\\lib\\site-packages (from pandas) (2.2.5)\n",
      "Requirement already satisfied: python-dateutil>=2.8.2 in c:\\users\\pc\\appdata\\roaming\\python\\python313\\site-packages (from pandas) (2.9.0.post0)\n",
      "Collecting pytz>=2020.1 (from pandas)\n",
      "  Downloading pytz-2025.2-py2.py3-none-any.whl.metadata (22 kB)\n",
      "Collecting tzdata>=2022.7 (from pandas)\n",
      "  Downloading tzdata-2025.2-py2.py3-none-any.whl.metadata (1.4 kB)\n",
      "Requirement already satisfied: six>=1.5 in c:\\users\\pc\\appdata\\roaming\\python\\python313\\site-packages (from python-dateutil>=2.8.2->pandas) (1.17.0)\n",
      "Downloading pandas-2.2.3-cp313-cp313-win_amd64.whl (11.5 MB)\n",
      "   ---------------------------------------- 0.0/11.5 MB ? eta -:--:--\n",
      "   - -------------------------------------- 0.5/11.5 MB 3.7 MB/s eta 0:00:03\n",
      "   --- ------------------------------------ 1.0/11.5 MB 3.0 MB/s eta 0:00:04\n",
      "   ------- -------------------------------- 2.1/11.5 MB 3.7 MB/s eta 0:00:03\n",
      "   --------- ------------------------------ 2.6/11.5 MB 3.6 MB/s eta 0:00:03\n",
      "   ------------- -------------------------- 3.9/11.5 MB 4.1 MB/s eta 0:00:02\n",
      "   ------------------ --------------------- 5.2/11.5 MB 4.4 MB/s eta 0:00:02\n",
      "   ----------------------- ---------------- 6.8/11.5 MB 4.9 MB/s eta 0:00:01\n",
      "   --------------------------- ------------ 7.9/11.5 MB 4.9 MB/s eta 0:00:01\n",
      "   -------------------------------- ------- 9.4/11.5 MB 5.2 MB/s eta 0:00:01\n",
      "   ----------------------------------- ---- 10.2/11.5 MB 5.2 MB/s eta 0:00:01\n",
      "   ---------------------------------------- 11.5/11.5 MB 5.1 MB/s eta 0:00:00\n",
      "Downloading pytz-2025.2-py2.py3-none-any.whl (509 kB)\n",
      "Downloading tzdata-2025.2-py2.py3-none-any.whl (347 kB)\n",
      "Installing collected packages: pytz, tzdata, pandas\n",
      "Successfully installed pandas-2.2.3 pytz-2025.2 tzdata-2025.2\n"
     ]
    },
    {
     "name": "stderr",
     "output_type": "stream",
     "text": [
      "\n",
      "[notice] A new release of pip is available: 25.0.1 -> 25.1.1\n",
      "[notice] To update, run: python.exe -m pip install --upgrade pip\n"
     ]
    }
   ],
   "source": [
    "pip install pandas"
   ]
  },
  {
   "cell_type": "code",
   "execution_count": 4,
   "id": "be722dc7",
   "metadata": {},
   "outputs": [
    {
     "name": "stdout",
     "output_type": "stream",
     "text": [
      "0        ebru\n",
      "1       fatma\n",
      "2       gonul\n",
      "3       faruk\n",
      "4    abdullah\n",
      "5       yunus\n",
      "6       maruf\n",
      "dtype: object\n"
     ]
    }
   ],
   "source": [
    "import pandas as pd\n",
    "liste1=[\"ebru\",\"fatma\",\"gonul\",\"faruk\",\"abdullah\",\"yunus\",\"maruf\"]\n",
    "seri1=pd.Series(liste1)\n",
    "print(seri1)"
   ]
  }
 ],
 "metadata": {
  "kernelspec": {
   "display_name": "Python 3",
   "language": "python",
   "name": "python3"
  },
  "language_info": {
   "codemirror_mode": {
    "name": "ipython",
    "version": 3
   },
   "file_extension": ".py",
   "mimetype": "text/x-python",
   "name": "python",
   "nbconvert_exporter": "python",
   "pygments_lexer": "ipython3",
   "version": "3.13.3"
  }
 },
 "nbformat": 4,
 "nbformat_minor": 5
}
