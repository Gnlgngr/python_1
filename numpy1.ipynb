{
 "cells": [
  {
   "cell_type": "code",
   "execution_count": 4,
   "id": "8b527681",
   "metadata": {},
   "outputs": [
    {
     "data": {
      "text/plain": [
       "<function numpy.array>"
      ]
     },
     "execution_count": 4,
     "metadata": {},
     "output_type": "execute_result"
    }
   ],
   "source": [
    "import numpy as np\n",
    "np.array\n"
   ]
  },
  {
   "cell_type": "code",
   "execution_count": 5,
   "id": "06055738",
   "metadata": {},
   "outputs": [
    {
     "name": "stdout",
     "output_type": "stream",
     "text": [
      "[[ 0  1  2]\n",
      " [ 3  4  5]\n",
      " [ 6  7  8]\n",
      " [ 9 10 11]]\n"
     ]
    }
   ],
   "source": [
    "list01=[[0,1,2],[3,4,5],[6,7,8],[9,10,11]]\n",
    "myarray=np.array(list01)\n",
    "print(myarray)"
   ]
  },
  {
   "cell_type": "code",
   "execution_count": null,
   "id": "87ae0c42",
   "metadata": {},
   "outputs": [
    {
     "name": "stdout",
     "output_type": "stream",
     "text": [
      "[[[ 0  1  2]\n",
      "  [ 3  4  5]\n",
      "  [ 6  7  8]\n",
      "  [ 9 10 11]]]\n"
     ]
    },
    {
     "data": {
      "text/plain": [
       "3"
      ]
     },
     "execution_count": 8,
     "metadata": {},
     "output_type": "execute_result"
    }
   ],
   "source": [
    "list01=[[[0,1,2],[3,4,5],[6,7,8],[9,10,11]]]\n",
    "myarray=np.array(list01)\n",
    "print(myarray)\n",
    "myarray.ndim # kac boyutlu oldugunu ogreniyoruz.We are learning how many dimensions it has"
   ]
  },
  {
   "cell_type": "code",
   "execution_count": null,
   "id": "f59d75f6",
   "metadata": {},
   "outputs": [
    {
     "name": "stdout",
     "output_type": "stream",
     "text": [
      "[[[ 0  1  2]\n",
      "  [ 3  4  5]]\n",
      "\n",
      " [[ 6  7  8]\n",
      "  [ 9 10 11]]\n",
      "\n",
      " [[12 13 14]\n",
      "  [15 16 17]]]\n"
     ]
    }
   ],
   "source": [
    "list01=[[[0,1,2],[3,4,5]],[[6,7,8],[9,10,11]],[[12,13,14],[15,16,17]]] # 3 boyutlunun gorunumu. three-dimensional appearance\n",
    "myarray=np.array(list01)\n",
    "print(myarray)"
   ]
  },
  {
   "cell_type": "code",
   "execution_count": null,
   "id": "f95bcc23",
   "metadata": {},
   "outputs": [
    {
     "name": "stdout",
     "output_type": "stream",
     "text": [
      "int32\n"
     ]
    },
    {
     "data": {
      "text/plain": [
       "2147483648"
      ]
     },
     "execution_count": 37,
     "metadata": {},
     "output_type": "execute_result"
    }
   ],
   "source": [
    "myarray=np.array([1,2147483647,3],dtype=\"int32\") # 2 uzeri 31 ve -1 i ile max sayiyi yazabiliyoruz.When using a 32-bit signed integer data type, the largest representable number is 2^31 - 1\n",
    "print(myarray.dtype)\n",
    "pow(2,31)"
   ]
  },
  {
   "cell_type": "code",
   "execution_count": 39,
   "id": "077d92ed",
   "metadata": {},
   "outputs": [
    {
     "name": "stdout",
     "output_type": "stream",
     "text": [
      "int32\n",
      "[1 2 3]\n"
     ]
    }
   ],
   "source": [
    "myarray=np.array([1,2.5,3],dtype=\"int32\")\n",
    "print(myarray.dtype)\n",
    "print(myarray)"
   ]
  },
  {
   "cell_type": "code",
   "execution_count": 40,
   "id": "4799570c",
   "metadata": {},
   "outputs": [
    {
     "name": "stdout",
     "output_type": "stream",
     "text": [
      "float32\n",
      "[1. 2. 3.]\n"
     ]
    }
   ],
   "source": [
    "myarray=np.array([1,2,3],dtype=\"float32\")\n",
    "print(myarray.dtype)\n",
    "print(myarray)"
   ]
  },
  {
   "cell_type": "code",
   "execution_count": null,
   "id": "b2d8dfde",
   "metadata": {},
   "outputs": [
    {
     "name": "stdout",
     "output_type": "stream",
     "text": [
      "<U32\n",
      "['2.3' 'fatma' '3']\n"
     ]
    }
   ],
   "source": [
    "import numpy as np\n",
    "myarray=np.array([2.3,\"fatma\",3]) # U32 str ifade olarak tanimlar.U32 is an alias for the unsigned int data type.\n",
    "print(myarray.dtype)\n",
    "print(myarray)"
   ]
  },
  {
   "cell_type": "code",
   "execution_count": null,
   "id": "b674eb9a",
   "metadata": {},
   "outputs": [
    {
     "data": {
      "text/plain": [
       "array([ True,  True,  True, False])"
      ]
     },
     "execution_count": 16,
     "metadata": {},
     "output_type": "execute_result"
    }
   ],
   "source": [
    "myarray=np.array([2.54773678384644,5.6827927826,3,0])\n",
    "myarray.astype(\"bool\")  # type ni degistiryoruz.We are changing the type\n",
    "\n"
   ]
  },
  {
   "cell_type": "code",
   "execution_count": null,
   "id": "3422ed52",
   "metadata": {},
   "outputs": [
    {
     "name": "stdout",
     "output_type": "stream",
     "text": [
      "4\n",
      "[[[[1 2 3 4]\n",
      "   [5 6 0 0]\n",
      "   [0 0 0 0]]\n",
      "\n",
      "  [[0 0 0 0]\n",
      "   [0 0 0 0]\n",
      "   [0 0 0 0]]]\n",
      "\n",
      "\n",
      " [[[0 0 0 0]\n",
      "   [0 0 0 0]\n",
      "   [0 0 0 0]]\n",
      "\n",
      "  [[0 0 0 0]\n",
      "   [0 0 0 0]\n",
      "   [0 0 0 0]]]]\n"
     ]
    }
   ],
   "source": [
    "#The resize operation changes the number of rows and columns; it fills missing cells with default values and removes any excess ones\n",
    "# resize satir sutun degistiryor vermedigimiz degerleri kendisi tamamliyor eger fazlasi varsa da siler\n",
    "myarray=np.array([[1,2,3],[4,5,6]])\n",
    "myarray.resize(2,2,3,4) \n",
    "print(myarray.ndim)\n",
    "print(myarray)\n"
   ]
  },
  {
   "cell_type": "code",
   "execution_count": null,
   "id": "5807adfa",
   "metadata": {},
   "outputs": [
    {
     "name": "stdout",
     "output_type": "stream",
     "text": [
      "[0.  2.5 5.  7.5]\n"
     ]
    }
   ],
   "source": [
    "myarray=np.arange(0,10,2.5)  # verilen araliklarda dizi olusturuyor ve 3. icin kacar kacar olacagi yaziyor.\"An array is created with the given ranges, and if a step value is provided as the third parameter, intervals are created according to this value\n",
    "print(myarray)   # ayni sekilde terstende yazabiliyoruz (10,0,-2.5).Similarly, we can write in reverse order as well; for example: range(10, 0, -2.5)\n"
   ]
  },
  {
   "cell_type": "code",
   "execution_count": null,
   "id": "01f570be",
   "metadata": {},
   "outputs": [
    {
     "name": "stdout",
     "output_type": "stream",
     "text": [
      "[ 0.  5. 10.]\n"
     ]
    }
   ],
   "source": [
    "myarray=np.linspace(0,10,3) # esit aralikli 3 tane sayi uretiyor. eger 3 u yazmaksak 50 deger veriyor.It generates 3 equally spaced numbers. If we don't specify 3, it gives a value of 50\n",
    "print(myarray)"
   ]
  },
  {
   "cell_type": "code",
   "execution_count": null,
   "id": "759ea6a0",
   "metadata": {},
   "outputs": [
    {
     "name": "stdout",
     "output_type": "stream",
     "text": [
      "[1.00000000e+00 2.15443469e+03 4.64158883e+06 1.00000000e+10]\n"
     ]
    }
   ],
   "source": [
    "myarray=np.logspace(0,10,4)  # logaritmik olarak 4 e boluyor. It divides logarithmically by 4.\n",
    "print(myarray)"
   ]
  },
  {
   "cell_type": "code",
   "execution_count": null,
   "id": "77b429ee",
   "metadata": {},
   "outputs": [
    {
     "name": "stdout",
     "output_type": "stream",
     "text": [
      "[[0. 0.]\n",
      " [0. 0.]]\n"
     ]
    }
   ],
   "source": [
    "myarray=np.zeros((2,2)) # sifirlardan olusan 2 satir 2 sutun olusturdu.It created a 2x2 matrix consisting of zeros\n",
    "print(myarray)"
   ]
  },
  {
   "cell_type": "code",
   "execution_count": null,
   "id": "ae2901c1",
   "metadata": {},
   "outputs": [
    {
     "name": "stdout",
     "output_type": "stream",
     "text": [
      "[[0 0 0]\n",
      " [0 0 0]]\n"
     ]
    }
   ],
   "source": [
    "myarray=np.array([[1,2,3],[4,5,6]])\n",
    "b=np.zeros_like(myarray) # ayni boyutta sifirlardan olusan ayri bir matris olusturuyor,It creates a separate matrix of the same size filled with zeros\n",
    "print(b)"
   ]
  },
  {
   "cell_type": "code",
   "execution_count": null,
   "id": "af82e8a3",
   "metadata": {},
   "outputs": [
    {
     "name": "stdout",
     "output_type": "stream",
     "text": [
      "[[1 1 1]\n",
      " [1 1 1]]\n"
     ]
    }
   ],
   "source": [
    "myarray=np.array([[1,2,3],[4,5,6]])\n",
    "b=np.ones_like(myarray) # ayni boyutta 1`lerden olusan ayri bir matris olusturuyor.It creates a separate matrix of the same size filled with ones\n",
    "print(b)"
   ]
  },
  {
   "cell_type": "code",
   "execution_count": null,
   "id": "1335cc5a",
   "metadata": {},
   "outputs": [
    {
     "name": "stdout",
     "output_type": "stream",
     "text": [
      "[[1. 1. 1.]\n",
      " [1. 1. 1.]\n",
      " [1. 1. 1.]\n",
      " [1. 1. 1.]\n",
      " [1. 1. 1.]]\n"
     ]
    }
   ],
   "source": [
    "c=np.ones((5,3))  # 1lerden olusan matris olusturuyor.It creates a separate matrix of the same size filled with ones\n",
    "print(c)"
   ]
  },
  {
   "cell_type": "code",
   "execution_count": null,
   "id": "54042aa7",
   "metadata": {},
   "outputs": [
    {
     "name": "stdout",
     "output_type": "stream",
     "text": [
      "[[1. 0. 0. 0. 0.]\n",
      " [0. 1. 0. 0. 0.]\n",
      " [0. 0. 1. 0. 0.]\n",
      " [0. 0. 0. 1. 0.]\n",
      " [0. 0. 0. 0. 1.]]\n"
     ]
    }
   ],
   "source": [
    "myarray=np.eye(5) # birim matrisi denilir. kare matrislerde satir ve sutunlar esittir.It creates a unit matrix, where in square matrices, the number of rows and columns are equal.\n",
    "print(myarray)"
   ]
  },
  {
   "cell_type": "code",
   "execution_count": null,
   "id": "6fa57906",
   "metadata": {},
   "outputs": [
    {
     "name": "stdout",
     "output_type": "stream",
     "text": [
      "[[1. 0. 0. 0.]\n",
      " [0. 1. 0. 0.]\n",
      " [0. 0. 1. 0.]\n",
      " [0. 0. 0. 1.]\n",
      " [0. 0. 0. 0.]]\n"
     ]
    }
   ],
   "source": [
    "myarray=np.eye(5,4) # birim matrisi denilir. diger matrislerde 2. girilen degr sutun sayisi.It is called the identity matrix. In other matrices, the second entered value is the number of columns\n",
    "print(myarray)"
   ]
  },
  {
   "cell_type": "code",
   "execution_count": null,
   "id": "9ec01e7b",
   "metadata": {},
   "outputs": [
    {
     "name": "stdout",
     "output_type": "stream",
     "text": [
      "<U2\n",
      "[['45' '45' '45']\n",
      " ['45' '45' '45']\n",
      " ['45' '45' '45']\n",
      " ['45' '45' '45']\n",
      " ['45' '45' '45']]\n"
     ]
    }
   ],
   "source": [
    "myarray=np.full((5,3),45,dtype=\"U12\") # 5e 3 matris yap ve 45 ile doldurur. U lar ile ilk degerini U1 ile iki degerini birden U2 veya iki basamkli sayi yazabilirisn \n",
    "myarray=np.full((5,3),\"45\") # Create a 5x3 matrix filled with 45. You can write the first value as U1, the second value as U2, or use two-digit numbers.\n",
    "print(myarray.dtype)\n",
    "print(myarray)"
   ]
  },
  {
   "cell_type": "code",
   "execution_count": null,
   "id": "cb32b138",
   "metadata": {},
   "outputs": [
    {
     "name": "stdout",
     "output_type": "stream",
     "text": [
      "[['nan' 'nan' 'nan']\n",
      " ['nan' 'nan' 'nan']\n",
      " ['nan' 'nan' 'nan']\n",
      " ['nan' 'nan' 'nan']\n",
      " ['nan' 'nan' 'nan']]\n"
     ]
    }
   ],
   "source": [
    "# nan oraya ait bir degerin olmadigini ifade eder\n",
    "# NaN indicates that there is no value for that particular entry.\n",
    "myarray=np.full((5,3),\"nan\")\n",
    "print(myarray)"
   ]
  },
  {
   "cell_type": "code",
   "execution_count": null,
   "id": "0f20ba3d",
   "metadata": {},
   "outputs": [
    {
     "name": "stdout",
     "output_type": "stream",
     "text": [
      "0.10245729440327289\n"
     ]
    }
   ],
   "source": [
    "myarray=np.random.rand() # eger belirlemezsek 0 ile 1 arasinda rastgele float bir sayi uretiyor.If not specified, it generates a random number between 0 and 1\n",
    "print(myarray)\n"
   ]
  },
  {
   "cell_type": "code",
   "execution_count": null,
   "id": "a47bb14a",
   "metadata": {},
   "outputs": [
    {
     "name": "stdout",
     "output_type": "stream",
     "text": [
      "[[0.01754115 0.57727395 0.40904218]\n",
      " [0.51661217 0.79247074 0.56248499]]\n"
     ]
    }
   ],
   "source": [
    "myarray=np.random.rand(2,3) # 2 ile 3 arasinda rastgele float sayi uretiyor.It generates a random number between 2 and 3\n",
    "print(myarray)"
   ]
  },
  {
   "cell_type": "code",
   "execution_count": null,
   "id": "1f38fd7f",
   "metadata": {},
   "outputs": [
    {
     "name": "stdout",
     "output_type": "stream",
     "text": [
      "[[[0.53421219 0.10198078 0.37983413 0.46474175 0.28200977]\n",
      "  [0.00641771 0.93862073 0.63912864 0.88837743 0.62823747]\n",
      "  [0.67923847 0.98414549 0.99349006 0.40149434 0.30990273]]\n",
      "\n",
      " [[0.18547984 0.68744458 0.96798311 0.27403726 0.64320627]\n",
      "  [0.62868097 0.0549982  0.34947467 0.21838949 0.22042215]\n",
      "  [0.30085468 0.79357687 0.09903389 0.98643922 0.46332456]]]\n"
     ]
    }
   ],
   "source": [
    "myarray=np.random.rand(2,3,5) # 2 tane 3 ile 5 arasinda rastgele float sayi uretiyor.It generates a random number between 3 and 5\n",
    "print(myarray)"
   ]
  },
  {
   "cell_type": "code",
   "execution_count": null,
   "id": "b1820136",
   "metadata": {},
   "outputs": [
    {
     "name": "stdout",
     "output_type": "stream",
     "text": [
      "[[[-1.22591848 -0.2494108   0.93379381 -2.35835058  0.55326157]\n",
      "  [ 0.1721252  -1.41913783 -0.35589079 -1.21020591  2.09630803]\n",
      "  [ 0.44147141  0.10975155  0.3495319  -0.56893574  0.59378977]]\n",
      "\n",
      " [[ 0.46117395 -0.47786606  0.12120474 -0.47498354 -0.68389188]\n",
      "  [-0.49878114 -2.94145097 -0.58114124  0.66765536  1.99398185]\n",
      "  [ 1.2392088   1.74961391 -0.09833205  1.65379616  0.04744158]]\n",
      "\n",
      " [[-0.8655143  -0.42036699 -0.19631101 -0.45272108  1.17987749]\n",
      "  [ 1.09496671  1.11521403 -0.44134241 -1.97758094  0.22625098]\n",
      "  [-1.55613909 -0.00765361 -0.38043195  1.38841958  1.62530681]]]\n"
     ]
    }
   ],
   "source": [
    "myarray=np.random.randn(3,3,5) # negatif ve pozitif sayilar uretiyor ve kac tane deger varsa boyut sayisina esit\n",
    "print(myarray)"
   ]
  },
  {
   "cell_type": "code",
   "execution_count": null,
   "id": "70c79908",
   "metadata": {},
   "outputs": [
    {
     "name": "stdout",
     "output_type": "stream",
     "text": [
      "3.5\n"
     ]
    }
   ],
   "source": [
    "myarray=np.array([[1,2,3],[4,5,6]])\n",
    "myarray.mean()\n",
    "print(myarray.mean()) # aritmatik ortalamasini aliyor.It calculates the arithmetic mean"
   ]
  },
  {
   "cell_type": "code",
   "execution_count": null,
   "id": "b8ee7d67",
   "metadata": {},
   "outputs": [
    {
     "name": "stdout",
     "output_type": "stream",
     "text": [
      "6\n"
     ]
    }
   ],
   "source": [
    "myarray=np.random.randint(4,10)  # hangi sayi araligini yazarsak o aralikta herhangi bir sayi uretiyor.It generates a random number within the specified range\n",
    "print(myarray)"
   ]
  },
  {
   "cell_type": "code",
   "execution_count": null,
   "id": "fe579301",
   "metadata": {},
   "outputs": [
    {
     "name": "stdout",
     "output_type": "stream",
     "text": [
      "[75 19 69  3 49]\n"
     ]
    }
   ],
   "source": [
    "import numpy as np\n",
    "myarray=np.random.randint(1,100,5)  # 1 ile 100 arasinda 5 tane sayi ver demek.It generates 5 random numbers between 1 and 100.\n",
    "print(myarray)"
   ]
  },
  {
   "cell_type": "code",
   "execution_count": null,
   "id": "df4087e5",
   "metadata": {},
   "outputs": [
    {
     "name": "stdout",
     "output_type": "stream",
     "text": [
      "[[[95 73]\n",
      "  [15 99]\n",
      "  [77 66]\n",
      "  [48 75]\n",
      "  [ 6 30]]\n",
      "\n",
      " [[59 13]\n",
      "  [71  7]\n",
      "  [44 89]\n",
      "  [86 25]\n",
      "  [ 6 18]]\n",
      "\n",
      " [[83 74]\n",
      "  [80  5]\n",
      "  [83 57]\n",
      "  [15 20]\n",
      "  [ 4 59]]]\n"
     ]
    }
   ],
   "source": [
    "myarray=np.random.randint(1,100,size=(3,5,2))  # 3 satir 5 sutundan olusan 1 ile 100 arasinda matris olusturuyor.It creates a 3x5 matrix with random numbers between 1 and 100\n",
    "print(myarray)"
   ]
  },
  {
   "cell_type": "code",
   "execution_count": null,
   "id": "19fa3e95",
   "metadata": {},
   "outputs": [
    {
     "name": "stdout",
     "output_type": "stream",
     "text": [
      "[[ 3 41 94 77  6]\n",
      " [51 27 62 60 47]\n",
      " [85 20 79  1 27]]\n"
     ]
    },
    {
     "data": {
      "text/plain": [
       "np.int64(13)"
      ]
     },
     "execution_count": 152,
     "metadata": {},
     "output_type": "execute_result"
    }
   ],
   "source": [
    "myarray=np.random.randint(1,100, size=(3,5))  # 1 ile 100 arasinda 3*5 matrisi olustur demek.It creates a 3x5 matrix with random numbers between 1 and 100\n",
    "print(myarray)\n",
    "myarray.min() # matrisdeki mini degeri gosteriyor.It shows the minimum value in the matrix\n",
    "myarray.argmin()# en kucuk degerin indeksini veriyor.It returns the index of the minimum value in the matrix\n",
    "myarray.max() # matrisdeki max degeri gosterir.It shows the maximum value in the matrix\n",
    "myarray.argmin() # en buyuk degerinin indeksini verir.It returns the index of the maximum value in the matrix"
   ]
  },
  {
   "cell_type": "code",
   "execution_count": null,
   "id": "345f374f",
   "metadata": {},
   "outputs": [
    {
     "name": "stdout",
     "output_type": "stream",
     "text": [
      "[[62 43 59 69 64]\n",
      " [29 84 41 67 73]\n",
      " [87 20  8 33 96]]\n"
     ]
    },
    {
     "data": {
      "text/plain": [
       "15"
      ]
     },
     "execution_count": 154,
     "metadata": {},
     "output_type": "execute_result"
    }
   ],
   "source": [
    "myarray=np.random.randint(1,100,size=(3,5))  \n",
    "print(myarray)\n",
    "myarray.size # toplam eleman sayisi. total number of elements"
   ]
  },
  {
   "cell_type": "code",
   "execution_count": null,
   "id": "c86be14a",
   "metadata": {},
   "outputs": [],
   "source": []
  }
 ],
 "metadata": {
  "kernelspec": {
   "display_name": "Python 3",
   "language": "python",
   "name": "python3"
  },
  "language_info": {
   "codemirror_mode": {
    "name": "ipython",
    "version": 3
   },
   "file_extension": ".py",
   "mimetype": "text/x-python",
   "name": "python",
   "nbconvert_exporter": "python",
   "pygments_lexer": "ipython3",
   "version": "3.13.3"
  }
 },
 "nbformat": 4,
 "nbformat_minor": 5
}
