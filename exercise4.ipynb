{
 "cells": [
  {
   "cell_type": "code",
   "execution_count": 1,
   "metadata": {},
   "outputs": [
    {
     "name": "stdout",
     "output_type": "stream",
     "text": [
      "number: 11\n",
      "The number is positive.\n"
     ]
    }
   ],
   "source": [
    "number=int(input(\"Please enter a numeric value:\"))\n",
    "print(\"number:\",number)\n",
    "if(number>0):\n",
    "    print(\"The number is positive.\")\n",
    "elif(number<0):\n",
    "    print(\"The number is negative.\")\n",
    "else:\n",
    "    print(\"The number is zero\")        "
   ]
  },
  {
   "cell_type": "code",
   "execution_count": 2,
   "metadata": {},
   "outputs": [
    {
     "name": "stdout",
     "output_type": "stream",
     "text": [
      "Your age: 35\n",
      "You are an adult.\n"
     ]
    }
   ],
   "source": [
    "age=int(input(\"Please enter your age:\"))\n",
    "print(\"Your age:\",age)\n",
    "if(0<age<12):\n",
    "    print(\"You are a child.\")\n",
    "elif(13<age<19):\n",
    "    print(\"You are young.\")\n",
    "elif(20<age<59):\n",
    "    print(\"You are an adult.\")\n",
    "else:\n",
    "    print(\"You are old.\")            "
   ]
  },
  {
   "cell_type": "code",
   "execution_count": 3,
   "metadata": {},
   "outputs": [
    {
     "name": "stdout",
     "output_type": "stream",
     "text": [
      "Your password is incorrect.\n"
     ]
    }
   ],
   "source": [
    "password=\"python123\"\n",
    "new=input(\"Please enter the password:\")\n",
    "if(password==new):\n",
    "    print(\"Your password is successful.\")\n",
    "else:\n",
    "    print(\"Your password is incorrect.\")    "
   ]
  },
  {
   "cell_type": "code",
   "execution_count": 4,
   "metadata": {},
   "outputs": [
    {
     "name": "stdout",
     "output_type": "stream",
     "text": [
      "number: 13\n",
      "Your number is odd.\n"
     ]
    }
   ],
   "source": [
    "number=int(input(\"Please enter the number:\"))\n",
    "print(\"number:\",number)\n",
    "if(number%2==0):\n",
    "    print(\"Your number is even.\")\n",
    "else:\n",
    "    print(\"Your number is odd.\")    "
   ]
  }
 ],
 "metadata": {
  "kernelspec": {
   "display_name": "Python 3",
   "language": "python",
   "name": "python3"
  },
  "language_info": {
   "codemirror_mode": {
    "name": "ipython",
    "version": 3
   },
   "file_extension": ".py",
   "mimetype": "text/x-python",
   "name": "python",
   "nbconvert_exporter": "python",
   "pygments_lexer": "ipython3",
   "version": "3.13.1"
  }
 },
 "nbformat": 4,
 "nbformat_minor": 2
}
