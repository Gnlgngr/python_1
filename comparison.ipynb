{
 "cells": [
  {
   "cell_type": "code",
   "execution_count": 2,
   "metadata": {},
   "outputs": [
    {
     "name": "stdout",
     "output_type": "stream",
     "text": [
      "True\n",
      "False\n"
     ]
    }
   ],
   "source": [
    "print(10>5)\n",
    "print(10<5)"
   ]
  },
  {
   "cell_type": "code",
   "execution_count": null,
   "metadata": {},
   "outputs": [
    {
     "data": {
      "text/plain": [
       "True"
      ]
     },
     "execution_count": 6,
     "metadata": {},
     "output_type": "execute_result"
    }
   ],
   "source": [
    "password=\"Mypassword\"\n",
    "userpass=input(\"Please enter the password:\")\n",
    "password==userpass #pas=user ise atama oluyor. == ise tanimlama oluyor.\n",
    "# If pass = user, then an assignment is being made.If == is used, then a comparison is being made\n",
    "\n"
   ]
  },
  {
   "cell_type": "code",
   "execution_count": null,
   "metadata": {},
   "outputs": [
    {
     "data": {
      "text/plain": [
       "False"
      ]
     },
     "execution_count": 21,
     "metadata": {},
     "output_type": "execute_result"
    }
   ],
   "source": [
    "6<=6 # <= kucuk esittir. <= means \"less than or equal to.\"\n",
    "6!=7 # != esit degildir. != means \"not equal to.\"\n",
    "# true karsiligi 1 dir. The equivalent of true is 1\n",
    "# false karsiligi 0 dir. The equivalent of false is 0."
   ]
  },
  {
   "cell_type": "code",
   "execution_count": null,
   "metadata": {},
   "outputs": [
    {
     "data": {
      "text/plain": [
       "True"
      ]
     },
     "execution_count": 22,
     "metadata": {},
     "output_type": "execute_result"
    }
   ],
   "source": [
    "# true karsiligi 1 dir. The equivalent of true is 1\n",
    "# false karsiligi 0 dir. The equivalent of false is 0.\n",
    "True==1"
   ]
  },
  {
   "cell_type": "code",
   "execution_count": 23,
   "metadata": {},
   "outputs": [
    {
     "data": {
      "text/plain": [
       "True"
      ]
     },
     "execution_count": 23,
     "metadata": {},
     "output_type": "execute_result"
    }
   ],
   "source": [
    "False==0"
   ]
  },
  {
   "cell_type": "code",
   "execution_count": 24,
   "metadata": {},
   "outputs": [
    {
     "data": {
      "text/plain": [
       "True"
      ]
     },
     "execution_count": 24,
     "metadata": {},
     "output_type": "execute_result"
    }
   ],
   "source": [
    "\"faruk\"==\"faruk\""
   ]
  },
  {
   "cell_type": "code",
   "execution_count": null,
   "metadata": {},
   "outputs": [
    {
     "data": {
      "text/plain": [
       "(103, 111, 110, 117, 108, 76)"
      ]
     },
     "execution_count": 1,
     "metadata": {},
     "output_type": "execute_result"
    }
   ],
   "source": [
    "ord(\"G\"),ord(\"o\"),ord(\"n\"),ord(\"u\"),ord(\"l\"),ord(\"L\") # harflerin ascii kodlari.\"The ASCII codes of the letters.\""
   ]
  },
  {
   "cell_type": "code",
   "execution_count": null,
   "metadata": {},
   "outputs": [
    {
     "data": {
      "text/plain": [
       "'\"'"
      ]
     },
     "execution_count": 38,
     "metadata": {},
     "output_type": "execute_result"
    }
   ],
   "source": [
    "chr(34)  # burada da ASCII nin tam tersi. kodunu yazip hangi karaktere denk geldigi yaziyor\n",
    "# Here, it's the opposite of ASCII. You write the code, and it shows which character it corresponds to"
   ]
  },
  {
   "cell_type": "code",
   "execution_count": null,
   "metadata": {},
   "outputs": [
    {
     "data": {
      "text/plain": [
       "False"
      ]
     },
     "execution_count": 50,
     "metadata": {},
     "output_type": "execute_result"
    }
   ],
   "source": [
    "bool(0) # 0,0.0, None, False,\"(bosluk olmamali)\",[bosluk olmamali],{} yazarsak false a cevirir\n",
    "# If we write 0, 0.0, None, False, \"(no space allowed)\", [no space allowed], {}, it will convert to false."
   ]
  },
  {
   "cell_type": "code",
   "execution_count": null,
   "metadata": {},
   "outputs": [
    {
     "data": {
      "text/plain": [
       "False"
      ]
     },
     "execution_count": 55,
     "metadata": {},
     "output_type": "execute_result"
    }
   ],
   "source": [
    "not False # true yaniti verir. It gives the true answer.\n",
    "not True #false yanitini verir. It gives the false answer\n",
    "not \"Gonul\" #false\n",
    "not 0 #true\n",
    "not 1 #false"
   ]
  },
  {
   "cell_type": "code",
   "execution_count": null,
   "metadata": {},
   "outputs": [
    {
     "data": {
      "text/plain": [
       "'mnklejfk'"
      ]
     },
     "execution_count": 65,
     "metadata": {},
     "output_type": "execute_result"
    }
   ],
   "source": [
    "True and False #false\n",
    "False and True #false\n",
    "False and False #false\n",
    "True and True #true\n",
    "5 and 8 and 3 and \"mnklejfk\" # hepsi true ise en sonundakini yazdiriyor. eger degilse false yazdirir.If all are true, it prints the last one. If not, it prints false.\n"
   ]
  },
  {
   "cell_type": "code",
   "execution_count": null,
   "metadata": {},
   "outputs": [
    {
     "name": "stdout",
     "output_type": "stream",
     "text": [
      "Abdullah\n"
     ]
    }
   ],
   "source": [
    "# immutable: yeniden atama yapincaya kadar degistirilemez. It cannot be changed until reassignment.\n",
    "a=\"Huseyin\"  \n",
    "a=\"Abdullah\"\n",
    "print(a)"
   ]
  },
  {
   "cell_type": "code",
   "execution_count": null,
   "metadata": {},
   "outputs": [
    {
     "name": "stdout",
     "output_type": "stream",
     "text": [
      "['K', 'e', 'r', 'h', 'a', 'b', 'a']\n"
     ]
    }
   ],
   "source": [
    "a=\"Merhaba\"\n",
    "b=list(a)\n",
    "b[0]=\"K\" # karakteri degistiriyoruz.We are changing the character.\n",
    "print(b)"
   ]
  },
  {
   "cell_type": "code",
   "execution_count": null,
   "metadata": {},
   "outputs": [
    {
     "name": "stdout",
     "output_type": "stream",
     "text": [
      "['M', 'e', 'r', 'h', 'a', 'b', 'a']\n",
      "a\n"
     ]
    }
   ],
   "source": [
    "a=list(\"Merhaba\") # str ifadeyi list e ceviriyoruz.We are converting the string expression into a list.\n",
    "print(a)\n",
    "print(a[-1])"
   ]
  },
  {
   "cell_type": "code",
   "execution_count": null,
   "metadata": {},
   "outputs": [
    {
     "data": {
      "text/plain": [
       "'H'"
      ]
     },
     "execution_count": 72,
     "metadata": {},
     "output_type": "execute_result"
    }
   ],
   "source": [
    "#iterable elemanlara ayirarak degistirilebilen demektir.It means that it can be modified by separating the iterable elements.\n",
    "a=\"Huseyin\" # 0 dan baslayarak siralandiriyor. en sondaki indeksten -1 ile baslayabiliyoruz.It starts from 0 and sorts. We can start from the last index using -1.\n",
    "a[-7]\n"
   ]
  },
  {
   "cell_type": "code",
   "execution_count": null,
   "metadata": {},
   "outputs": [
    {
     "data": {
      "text/plain": [
       "'Huseyin Abdullah Maruf'"
      ]
     },
     "execution_count": 78,
     "metadata": {},
     "output_type": "execute_result"
    }
   ],
   "source": [
    "\"Huseyin\"+\" \"+\"Abdullah\"+\" \"+\"Maruf\"  #iki str ard arda toplandiginda birbirine ekler.\n",
    "# When two strings are concatenated, they add to each other"
   ]
  },
  {
   "cell_type": "code",
   "execution_count": null,
   "metadata": {},
   "outputs": [
    {
     "data": {
      "text/plain": [
       "'Huseyin Huseyin Huseyin '"
      ]
     },
     "execution_count": 81,
     "metadata": {},
     "output_type": "execute_result"
    }
   ],
   "source": [
    "\"Huseyin \"*3   #carpma isleminde sonuc bu. float ile carpamiyoruz\n",
    "# \"This is the result of the multiplication operation. We cannot multiply with a float"
   ]
  },
  {
   "cell_type": "code",
   "execution_count": null,
   "metadata": {},
   "outputs": [
    {
     "name": "stdout",
     "output_type": "stream",
     "text": [
      "uei\n",
      "uei\n",
      "ey\n",
      "ey\n",
      "Hsy\n",
      "Huseyin\n",
      "Hsyn\n",
      "niyesuH\n",
      "iy\n",
      "yes\n"
     ]
    }
   ],
   "source": [
    "a=\"Huseyin\"\n",
    "print(a[1]+a[3]+a[5])\n",
    "print(a[-6]+a[-4]+a[-2])\n",
    "print(a[3:5])  # 3 dahil 5 haric, 3 ten 5 kadar olan harfleri yazdirir.It prints the letters from 3 to 5, including 3 but excluding 5.\n",
    "print(a[-4:-2])  # -2 yine dahil degil.-2 is also not included.\n",
    "print(a[0:6:2])  #sondaki \"2\" karakterleri 2 ser atlayarak yazdirir. Prints the last '2' characters with a line break every 2 lines\n",
    "print(a[::])  # tum halini yazdirir.Prints the entire content.\n",
    "print(a[::2])  # tumunu 2 li atlayarak yazdirir. Prints all of it with a step of 2\n",
    "print(a[::-1])  # tum ifadeyi tersine cevirir.Reverses the entire string.\n",
    "print(a[5:3:-1])  \n",
    "print(a[-3:-6:-1])\n",
    "\n"
   ]
  },
  {
   "cell_type": "code",
   "execution_count": null,
   "metadata": {},
   "outputs": [
    {
     "name": "stdout",
     "output_type": "stream",
     "text": [
      "HUSEYIN\n",
      "huseyin\n",
      "E\n",
      "Yes\n"
     ]
    }
   ],
   "source": [
    "a=\"Huseyin\"\n",
    "print(a.upper())  # tum harfleri buyuk yazar. Converts all letters to uppercase\n",
    "print(a.lower()) # tum harfleri kucuk yapar. Converts all letters to lowercase\n",
    "print(a[3].upper()) # istedigimiz harfi kucuk veya buyuk yapabiliyoruz. We can convert any letter to uppercase or lowercase\n",
    "print(a[4].upper()+a[3].lower()+a[2].lower()) # bu isleme concat diyoruz. We call this operation concat"
   ]
  }
 ],
 "metadata": {
  "kernelspec": {
   "display_name": "Python 3",
   "language": "python",
   "name": "python3"
  },
  "language_info": {
   "codemirror_mode": {
    "name": "ipython",
    "version": 3
   },
   "file_extension": ".py",
   "mimetype": "text/x-python",
   "name": "python",
   "nbconvert_exporter": "python",
   "pygments_lexer": "ipython3",
   "version": "3.13.1"
  }
 },
 "nbformat": 4,
 "nbformat_minor": 2
}
