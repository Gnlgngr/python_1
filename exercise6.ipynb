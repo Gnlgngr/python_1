{
 "cells": [
  {
   "cell_type": "code",
   "execution_count": null,
   "metadata": {},
   "outputs": [
    {
     "name": "stdout",
     "output_type": "stream",
     "text": [
      "tammdir\n"
     ]
    }
   ],
   "source": [
    "name=input(\"Please enter your  name:\")\n",
    "if(name==\"faruk\"):\n",
    "    print(\"super topcumuz\",name,\"bizimle\")\n",
    "elif(name==\"gonul\"):\n",
    "    print(\"super yazilimcimiz\",name, \"bizimle\")\n",
    "\n",
    "elif(name==int(name) and 1<int(name)<4):\n",
    "    print(\"bugun hava guzel\")\n",
    "     \n",
    "\n",
    "else:\n",
    "    print(\"tammdir\")\n"
   ]
  },
  {
   "cell_type": "code",
   "execution_count": 11,
   "metadata": {},
   "outputs": [
    {
     "name": "stdout",
     "output_type": "stream",
     "text": [
      "faruk,gonul veya 5 girmediniz\n"
     ]
    }
   ],
   "source": [
    "a=input(\"lutfen degeri giriniz:\")\n",
    "b=input(\"Girdiginiz deger rakamsa 1 yaziysa a giriniz:\")\n",
    "\n",
    "if(b==\"1\"):\n",
    "    a=int(a)\n",
    "    \n",
    "    print(\"girdiginiz deger\",type(a),a,\"dir\")\n",
    "if(a==\"faruk\"):\n",
    "    print(\"merhaba\",type(a),a)\n",
    "elif(a==\"gonul\"):\n",
    "    print(\"merhaba\",type(a),a)\n",
    "elif(a==5):\n",
    "    print(\"girdiginiz sayi \", type(a),a,\"dir\")\n",
    "else:\n",
    "    print(\"faruk,gonul veya 5 girmediniz\")            \n",
    "\n"
   ]
  }
 ],
 "metadata": {
  "kernelspec": {
   "display_name": "Python 3",
   "language": "python",
   "name": "python3"
  },
  "language_info": {
   "codemirror_mode": {
    "name": "ipython",
    "version": 3
   },
   "file_extension": ".py",
   "mimetype": "text/x-python",
   "name": "python",
   "nbconvert_exporter": "python",
   "pygments_lexer": "ipython3",
   "version": "3.13.1"
  }
 },
 "nbformat": 4,
 "nbformat_minor": 2
}
