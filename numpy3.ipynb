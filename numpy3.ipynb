{
 "cells": [
  {
   "cell_type": "code",
   "execution_count": null,
   "id": "db0e8191",
   "metadata": {},
   "outputs": [],
   "source": [
    "# ek bilgi\n",
    "# mode tekrar sayisi\n",
    "# mean ortalama sayisi"
   ]
  },
  {
   "cell_type": "code",
   "execution_count": null,
   "id": "00280628",
   "metadata": {},
   "outputs": [
    {
     "name": "stdout",
     "output_type": "stream",
     "text": [
      "[0 1 2 3 4 5 6 7 8 9]\n",
      "3\n",
      "[1 2 3]\n",
      "[4 5 6 7 8]\n",
      "[4 3 2 1]\n",
      "[4 6 8]\n"
     ]
    }
   ],
   "source": [
    "import numpy as np\n",
    "array01=np.arange(0,10)\n",
    "print(array01)\n",
    "print(array01[3]) # kacinci indekste ise gosteriyor.If it is at a certain index, it is displayed.\n",
    "print(array01[1:4]) # araligi belirtilen indeksler arasini yaziyor.The first index in the specified range is included, but the second index is excluded, and the range is printed.\n",
    "print(array01[4:-1])\n",
    "print(array01[4:0:-1])\n",
    "print(array01[4::2])  # 4.indeksten ten baslayip 2ser atlayarak sonuna kadar yazdiriyorIt starts from the 4th index, skips every 2 elements, and prints until the end."
   ]
  },
  {
   "cell_type": "code",
   "execution_count": null,
   "id": "d5556970",
   "metadata": {},
   "outputs": [
    {
     "name": "stdout",
     "output_type": "stream",
     "text": [
      "[[ 1  3  5]\n",
      " [13 15 17]\n",
      " [25 27 29]]\n",
      "[[ 0  2  4]\n",
      " [ 6  8 10]\n",
      " [12 14 16]\n",
      " [18 20 22]\n",
      " [24 26 28]\n",
      " [30 32 34]]\n"
     ]
    }
   ],
   "source": [
    "array01=np.arange(0,36).reshape(6,6)\n",
    "print(array01[0::2,1::2])   # birincisi satirdakiler ikincisi sutundakiler ve ortak olan sayilarla matrisi olustururyor.The first takes the row elements, the second takes the column elements, and the matrix is formed using the common numbers\n",
    "print(array01[:,::2]) # :=> tum matrisi al demek, ::2 tum matrisi 2 ser atlayarak al demek.\n",
    "#\":=>\" → \"Take the entire matrix.\"::2\" → \"Take the entire matrix, skipping every 2 elements."
   ]
  },
  {
   "cell_type": "code",
   "execution_count": null,
   "id": "697c3fab",
   "metadata": {},
   "outputs": [
    {
     "name": "stdout",
     "output_type": "stream",
     "text": [
      "[ 3  9 15 21 27 33]\n",
      "[[ 3  4]\n",
      " [ 9 10]]\n",
      "[[15]]\n",
      "[[ 1  3  5]\n",
      " [13 15 17]\n",
      " [25 27 29]]\n",
      "150\n"
     ]
    }
   ],
   "source": [
    "array01=np.arange(0,36).reshape(6,6)\n",
    "print(array01[:,3])\n",
    "print(array01[0:2,3:5])\n",
    "print(array01[2:3,3:4])\n",
    "print(array01[0::2,1::2])\n",
    "array01[2,3]=150  # eleman degisikliginde.If we want to change a number in the matrix, we can specify the row and column index and modify it this way.\n",
    "print(array01[2,3])\n"
   ]
  },
  {
   "cell_type": "code",
   "execution_count": null,
   "id": "88261461",
   "metadata": {},
   "outputs": [
    {
     "name": "stdout",
     "output_type": "stream",
     "text": [
      "[[73 13  6  1 29]\n",
      " [28 72 76 86 48]\n",
      " [94 18 32 24 33]\n",
      " [63 11 16 69 40]\n",
      " [38 20 45 78 61]]\n",
      "[29 86 32 11 38]\n",
      "[72 18 61]\n"
     ]
    }
   ],
   "source": [
    "import numpy as np\n",
    "np.random.seed(15)  \n",
    "# seed degeri=> parantez icindeki deger herkesteki degerle ayni olunca ayni matrisi uretiyor.\n",
    "#The seed value => If the value inside the parentheses is the same for everyone, it generates the same matrix\n",
    "# seed matematiksel islemin ortak algoritmasi oluyor\n",
    "# The seed is the common algorithm of the mathematical operation.\n",
    "array01=np.random.randint(1,100,size=(5,5)) \n",
    "\n",
    "print(array01)\n",
    "print(array01[(0,1,2,3,4),(4,3,2,1,0)])\n",
    "print(array01[(1,2,4),(1,1,4)])  # satir ve sutunlardan bulabiliyoruz.We can easily find the elements inside the matrix using rows and columns.\n",
    "\n",
    "\n"
   ]
  },
  {
   "cell_type": "code",
   "execution_count": null,
   "id": "c186ce38",
   "metadata": {},
   "outputs": [
    {
     "name": "stdout",
     "output_type": "stream",
     "text": [
      "[[ 7 28  8 38]\n",
      " [ 2 13  8 20]\n",
      " [32 11 20 28]]\n",
      "[[False False False  True]\n",
      " [False False False False]\n",
      " [ True False False False]]\n",
      "[[ True False  True False]\n",
      " [ True  True  True False]\n",
      " [False  True False False]]\n",
      "[ 7 13 11]\n"
     ]
    }
   ],
   "source": [
    "\n",
    "np.random.seed(40)  # seed degeri herkeste ayni degerleri gosteriyor. parantez icindeki deger herkesteki degerle ayni olunca ayni matrisi uretiyor\n",
    "array01=np.random.randint(1,50,size=(3,4))\n",
    "print(array01)\n",
    "print(array01>30) # 30 dan kucukleri gosterir. true ve false seklinde yanit veriyor.It displays numbers less than 30 and returns answers in the form of True and False.\n",
    "print(array01<15)  # belirlenilen sayilarin buyuk veya kucuk seklinde boyle bulabiliyoruz.We can find the specified numbers as greater or smaller in this way\n",
    "a=array01[array01<15]  # sayisal degerlerini gorebilmek icin.To be able to see the numerical values. \n",
    "a=array01[array01%2==0]  # cift sayilari icin.For even numbers\n",
    "a=array01[array01%2==1] # tek sayilar icin .For odd numbers\n",
    "print(a)\n",
    "\n"
   ]
  },
  {
   "cell_type": "code",
   "execution_count": null,
   "id": "18b23d83",
   "metadata": {},
   "outputs": [],
   "source": [
    "# unicast=> birebir iletisim kurma. Unicast → \"One-to-one communication.\"\n",
    "\n",
    "# multicast=> coklu iletisim kurmak.Multicast → \"Many-to-many communication.\"\n",
    "\n",
    "# broadcast=> evrensel iletisim kurmak. Broadcast → \"Universal communication.\n",
    "\n"
   ]
  },
  {
   "cell_type": "code",
   "execution_count": null,
   "id": "a40c87ba",
   "metadata": {},
   "outputs": [
    {
     "name": "stdout",
     "output_type": "stream",
     "text": [
      "[[ 7 28  8 38]\n",
      " [ 2 13  8 20]\n",
      " [32 11 20 28]]\n",
      "[[12 33 13 43]\n",
      " [ 7 18 13 25]\n",
      " [37 16 25 33]]\n",
      "[[ 21  84  24 114]\n",
      " [  6  39  24  60]\n",
      " [ 96  33  60  84]]\n",
      "[[ 3.5 14.   4.  19. ]\n",
      " [ 1.   6.5  4.  10. ]\n",
      " [16.   5.5 10.  14. ]]\n",
      "[[-13   8 -12  18]\n",
      " [-18  -7 -12   0]\n",
      " [ 12  -9   0   8]]\n"
     ]
    }
   ],
   "source": [
    "np.random.seed(40)  # seed degeri herkeste ayni degerleri gosteriyor. parantez icindeki deger herkesteki degerle ayni olunca ayni matrisi uretiyor\n",
    "array01=np.random.randint(1,50,size=(3,4))\n",
    "print(array01)\n",
    "a=array01+5\n",
    "print(a)\n",
    "b=array01*3\n",
    "print(b)\n",
    "c=array01/2\n",
    "print(c)\n",
    "d=array01-20\n",
    "print(d)\n",
    "# \"We can perform the four basic arithmetic operations on a matrix. The operation is applied to each individual element.\n",
    "\n",
    "\n"
   ]
  },
  {
   "cell_type": "code",
   "execution_count": null,
   "id": "92f38151",
   "metadata": {},
   "outputs": [
    {
     "name": "stdout",
     "output_type": "stream",
     "text": [
      "[[ 7 28  8 38]\n",
      " [ 2 13  8 20]\n",
      " [32 11 20 28]]\n",
      "[[50 50 50 38]\n",
      " [ 2 13  8 20]\n",
      " [32 11 20 28]]\n",
      "50\n"
     ]
    }
   ],
   "source": [
    "np.random.seed(40)  # seed degeri herkeste ayni degerleri gosteriyor. parantez icindeki deger herkesteki degerle ayni olunca ayni matrisi uretiyor\n",
    "array01=np.random.randint(1,50,size=(3,4))\n",
    "print(array01)\n",
    "a=array01[0,:3]=50 # deger degisikligi.Value change\n",
    "print(array01)\n",
    "print(a)"
   ]
  },
  {
   "cell_type": "code",
   "execution_count": null,
   "id": "1425dcf6",
   "metadata": {},
   "outputs": [
    {
     "name": "stdout",
     "output_type": "stream",
     "text": [
      "[[ 7 28  8 38]\n",
      " [ 2 13  8 20]\n",
      " [32 11 20 28]]\n",
      "[[14 56 16 76]\n",
      " [ 4 26 16 40]\n",
      " [64 22 40 56]]\n",
      "[[ 35 140  40 190]\n",
      " [ 10  65  40 100]\n",
      " [160  55 100 140]]\n"
     ]
    }
   ],
   "source": [
    "np.random.seed(40)  # seed degeri herkeste ayni degerleri gosteriyor. parantez icindeki deger herkesteki degerle ayni olunca ayni matrisi uretiyor\n",
    "array01=np.random.randint(1,50,size=(3,4))\n",
    "array02=array01+array01 # iki matrisin toplami. The sum of two matrices\n",
    "array03=array01*5\n",
    "print(array01)\n",
    "print(array02)\n",
    "print(array03)"
   ]
  },
  {
   "cell_type": "code",
   "execution_count": null,
   "id": "c61a678b",
   "metadata": {},
   "outputs": [
    {
     "name": "stdout",
     "output_type": "stream",
     "text": [
      "[[ 7 28  8 38]\n",
      " [ 2 13  8 20]\n",
      " [32 11 20 28]]\n",
      "[[ 21  84  24 114]\n",
      " [  6  39  24  60]\n",
      " [ 96  33  60  84]]\n"
     ]
    }
   ],
   "source": [
    "np.random.seed(40)  # seed degeri herkeste ayni degerleri gosteriyor. parantez icindeki deger herkesteki degerle ayni olunca ayni matrisi uretiyor\n",
    "array01=np.random.randint(1,50,size=(3,4))\n",
    "array02=np.multiply(array01,3) # carpma islemi yapar. Performs multiplication operation.\n",
    "print(array01)\n",
    "print(array02)"
   ]
  },
  {
   "cell_type": "code",
   "execution_count": null,
   "id": "aba751e5",
   "metadata": {},
   "outputs": [
    {
     "name": "stdout",
     "output_type": "stream",
     "text": [
      "17.916666666666668\n",
      "53.75\n"
     ]
    }
   ],
   "source": [
    "np.random.seed(40)  # seed degeri herkeste ayni degerleri gosteriyor. parantez icindeki deger herkesteki degerle ayni olunca ayni matrisi uretiyor\n",
    "array01=np.random.randint(1,50,size=(3,4))\n",
    "array02=np.multiply(array01,3) \n",
    "print(array01.mean())  # aritmetik ortalama. Arithmetic Mean\n",
    "print(array02.mean())\n"
   ]
  },
  {
   "cell_type": "code",
   "execution_count": null,
   "id": "785571c4",
   "metadata": {},
   "outputs": [
    {
     "name": "stdout",
     "output_type": "stream",
     "text": [
      "[0 1 2 3 4 5 6 7 8 9]\n",
      "308.0\n"
     ]
    }
   ],
   "source": [
    "np.random.seed(40)  # seed degeri herkeste ayni degerleri gosteriyor. parantez icindeki deger herkesteki degerle ayni olunca ayni matrisi uretiyor\n",
    "array01=np.arange(0,10)\n",
    "array02=[100,1200,2627,19387,308,2,8,3030,44] # ilk once dizini kucukten buyuge siralayip orta elemani oyle aliyor. median=>First, it sorts the array in ascending order and then prints the middle element\n",
    "ortadakideger=np.median(array02)  # ortadaki eleman, eger ortada bir eleman kalmazsa ortada son kalan elemanlarin ortasindaki yani bucuklu sayiyi aliyor.The middle element—if there is no single middle element—takes the average of the last remaining middle elements, resulting in a decimal value\n",
    "print(array01)\n",
    "print(ortadakideger)"
   ]
  },
  {
   "cell_type": "code",
   "execution_count": null,
   "id": "d873d6a1",
   "metadata": {},
   "outputs": [
    {
     "name": "stdout",
     "output_type": "stream",
     "text": [
      "2.8722813232690143\n"
     ]
    }
   ],
   "source": [
    "np.random.seed(40)\n",
    "array01=np.arange(0,10)\n",
    "print(np.std(array01)) # standart sapma. Standard deviation"
   ]
  }
 ],
 "metadata": {
  "kernelspec": {
   "display_name": "Python 3",
   "language": "python",
   "name": "python3"
  },
  "language_info": {
   "codemirror_mode": {
    "name": "ipython",
    "version": 3
   },
   "file_extension": ".py",
   "mimetype": "text/x-python",
   "name": "python",
   "nbconvert_exporter": "python",
   "pygments_lexer": "ipython3",
   "version": "3.13.3"
  }
 },
 "nbformat": 4,
 "nbformat_minor": 5
}
