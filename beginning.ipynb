{
  "cells": [
    {
      "cell_type": "code",
      "execution_count": null,
      "metadata": {
        "colab": {
          "base_uri": "https://localhost:8080/"
        },
        "id": "Gmvg6oPVFk6W",
        "outputId": "99ea67f4-adcc-4304-a876-ada09b2102d3"
      },
      "outputs": [
        {
          "name": "stdout",
          "output_type": "stream",
          "text": [
            "8\n",
            "`3+5`\n"
          ]
        }
      ],
      "source": [
        "print(3+5) # bu bir sayisal ifadedir # This is a numerical expression.\n",
        "print(\"`3+5`\") #bu bir string ifadedir. # This is a string"
      ]
    },
    {
      "cell_type": "code",
      "execution_count": 3,
      "metadata": {},
      "outputs": [
        {
          "name": "stdout",
          "output_type": "stream",
          "text": [
            "First line\n",
            "second line\n",
            "third line.\n"
          ]
        }
      ],
      "source": [
        "print(\"\"\"First line\n",
        "second line\n",
        "third line.\"\"\")"
      ]
    },
    {
      "cell_type": "code",
      "execution_count": 4,
      "metadata": {},
      "outputs": [
        {
          "name": "stdout",
          "output_type": "stream",
          "text": [
            "Rosa's pen\n"
          ]
        }
      ],
      "source": [
        "print(\"Rosa's pen\")"
      ]
    },
    {
      "cell_type": "code",
      "execution_count": 5,
      "metadata": {},
      "outputs": [
        {
          "name": "stdout",
          "output_type": "stream",
          "text": [
            "My name is Rosa\n"
          ]
        }
      ],
      "source": [
        "print(\"My name is Rosa\")"
      ]
    },
    {
      "cell_type": "code",
      "execution_count": 6,
      "metadata": {},
      "outputs": [
        {
          "name": "stdout",
          "output_type": "stream",
          "text": [
            "The result of 3 + 5 is 8.\n"
          ]
        }
      ],
      "source": [
        "print(\"The result of 3 + 5 is 8.\")"
      ]
    }
  ],
  "metadata": {
    "colab": {
      "provenance": []
    },
    "kernelspec": {
      "display_name": "Python 3",
      "name": "python3"
    },
    "language_info": {
      "codemirror_mode": {
        "name": "ipython",
        "version": 3
      },
      "file_extension": ".py",
      "mimetype": "text/x-python",
      "name": "python",
      "nbconvert_exporter": "python",
      "pygments_lexer": "ipython3",
      "version": "3.13.1"
    }
  },
  "nbformat": 4,
  "nbformat_minor": 0
}
